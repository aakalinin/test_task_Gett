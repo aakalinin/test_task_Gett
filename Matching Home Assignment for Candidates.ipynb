{
  "nbformat": 4,
  "nbformat_minor": 0,
  "metadata": {
    "colab": {
      "provenance": []
    },
    "kernelspec": {
      "name": "python3",
      "display_name": "Python 3"
    },
    "language_info": {
      "name": "python"
    }
  },
  "cells": [
    {
      "cell_type": "markdown",
      "source": [
        "# Тестовое задание в команду продуктовой аналитики, Gett."
      ],
      "metadata": {
        "id": "obUHa-Ky-Rgb"
      }
    },
    {
      "cell_type": "markdown",
      "source": [
        "В папке с заданием два датасета - data_orders - содержит выборку данных по заказам пользователей и включает такие колонки как:\n",
        "\n",
        "- order_datetime - время заказа\n",
        "- origin_longitude - долгота\n",
        "- origin_latitude - широта\n",
        "- m_order_eta - время до прибытия машины\n",
        "- order_gk - номер заказа\n",
        "- order_status_key - статус (4 - отменен клиентом, 9 - отменен системой (reject))\n",
        "- is_driver_assigned_key - был ли назначен водитель\n",
        "- cancellations_time_in_seconds - сколько секунд прошло до отмены\n",
        "- data_offers - содержит пары номер заказа - ID оффера, который был предложен водителю по данному заказу.\n",
        "\n",
        "В момент когда клиент нажимать на кнопку \"Заказать\" в приложении, система матчинга подыскивает наиболее релевантых водителей и предлагаем им заказ. В задании предлагается исследовать некоторые метрики матчинга для заказов, которые не завершились успешно (клиент в итоге не получил машину)."
      ],
      "metadata": {
        "id": "zSoHw3xe-Wuh"
      }
    },
    {
      "cell_type": "markdown",
      "source": [
        "**0.** Подготовка данных"
      ],
      "metadata": {
        "id": "zMLhGrj3-mn_"
      }
    },
    {
      "cell_type": "code",
      "execution_count": null,
      "metadata": {
        "id": "cGlsSPRc-PUp"
      },
      "outputs": [],
      "source": [
        "## CODE HERE"
      ]
    },
    {
      "cell_type": "markdown",
      "source": [
        "**1.** Постройте распределение заказов по причинам неуспеха: отмены до и после назначения водителя, режекты"
      ],
      "metadata": {
        "id": "emaWa51_-RjV"
      }
    },
    {
      "cell_type": "code",
      "source": [
        "## CODE HERE"
      ],
      "metadata": {
        "id": "BUs8PJZ--rkS"
      },
      "execution_count": null,
      "outputs": []
    },
    {
      "cell_type": "markdown",
      "source": [
        "Проанализируйте полученный график - в какой категории наибольшое количество заказов?"
      ],
      "metadata": {
        "id": "lx9v7M4H-0Ds"
      }
    },
    {
      "cell_type": "markdown",
      "source": [
        "Место для ответа"
      ],
      "metadata": {
        "id": "zuanzHrC-2nL"
      }
    },
    {
      "cell_type": "markdown",
      "source": [
        "**2.** Постройте график распределения фейлов по часам - наблюдается ли тендеция, что в какие то часы доля той или иной категории аномально высока?"
      ],
      "metadata": {
        "id": "nlQcJnCd-Rlc"
      }
    },
    {
      "cell_type": "code",
      "source": [
        "## CODE HERE"
      ],
      "metadata": {
        "id": "sI56ShdL-scb"
      },
      "execution_count": null,
      "outputs": []
    },
    {
      "cell_type": "markdown",
      "source": [
        "В какие часы фейлов больше всего? Чем это можно объяснить?"
      ],
      "metadata": {
        "id": "9mUNLTn9_LOS"
      }
    },
    {
      "cell_type": "markdown",
      "source": [
        "*Место для ответа*"
      ],
      "metadata": {
        "id": "q74i7xKz_LRN"
      }
    },
    {
      "cell_type": "markdown",
      "source": [
        "**3.** Постройте графики среднего времени до отмены (cancellations_time_in_seconds) с водителем и без, по часам. Если есть выбросы в данных - лучше удалить. Можно ли сделать выводы по этому графику?"
      ],
      "metadata": {
        "id": "f3NYMjIw-Rn6"
      }
    },
    {
      "cell_type": "code",
      "source": [
        "## CODE HERE"
      ],
      "metadata": {
        "id": "F3RSZ30q-sJV"
      },
      "execution_count": null,
      "outputs": []
    },
    {
      "cell_type": "markdown",
      "source": [
        "*Место для ответа*"
      ],
      "metadata": {
        "id": "9A5YzCHB_XFz"
      }
    },
    {
      "cell_type": "markdown",
      "source": [
        "**4.** Постройте распределение среднего ЕТА по часам. Чем можно объяснить такой вид графика?"
      ],
      "metadata": {
        "id": "7227_Xgb_Gk2"
      }
    },
    {
      "cell_type": "code",
      "source": [
        "## CODE HERE"
      ],
      "metadata": {
        "id": "BhfgLzw9_Gr4"
      },
      "execution_count": null,
      "outputs": []
    },
    {
      "cell_type": "markdown",
      "source": [
        "*Место для ответа*"
      ],
      "metadata": {
        "id": "W9P2iR50_fu8"
      }
    },
    {
      "cell_type": "markdown",
      "source": [
        "**5.** Колонка drivers_offered - показывает сколько водителей увидели заказ и могли его принять. Постройте часовую разбивку среднего количества водителей которым был предложен заказ. Что можно сказать по ней про избыток/нехватку водителей в те или иные часы?"
      ],
      "metadata": {
        "id": "LEb45U9z_GzC"
      }
    },
    {
      "cell_type": "code",
      "source": [
        "## CODE HERE"
      ],
      "metadata": {
        "id": "hfZNixto_G4b"
      },
      "execution_count": null,
      "outputs": []
    },
    {
      "cell_type": "markdown",
      "source": [
        "*Место для ответа*"
      ],
      "metadata": {
        "id": "xwPGMtbf_G9r"
      }
    }
  ]
}