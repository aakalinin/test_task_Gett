{
  "nbformat": 4,
  "nbformat_minor": 0,
  "metadata": {
    "colab": {
      "provenance": []
    },
    "kernelspec": {
      "name": "python3",
      "display_name": "Python 3"
    },
    "language_info": {
      "name": "python"
    }
  },
  "cells": [
    {
      "cell_type": "markdown",
      "source": [
        "# Тестовое задание в команду продуктовой аналитики, Gett."
      ],
      "metadata": {
        "id": "obUHa-Ky-Rgb"
      }
    },
    {
      "cell_type": "markdown",
      "source": [
        "В папке с заданием два датасета - data_orders - содержит выборку данных по заказам пользователей и включает такие колонки как:\n",
        "\n",
        "- order_datetime - время заказа\n",
        "- origin_longitude - долгота\n",
        "- origin_latitude - широта\n",
        "- m_order_eta - время до прибытия машины\n",
        "- order_gk - номер заказа\n",
        "- order_status_key - статус (4 - отменен клиентом, 9 - отменен системой (reject))\n",
        "- is_driver_assigned_key - был ли назначен водитель\n",
        "- cancellations_time_in_seconds - сколько секунд прошло до отмены\n",
        "\n",
        "data_offers - содержит пары номер заказа - ID оффера, который был предложен водителю по данному заказу.\n",
        "\n",
        "В момент когда клиент нажимать на кнопку \"Заказать\" в приложении, система матчинга подыскивает наиболее релевантых водителей и предлагаем им заказ. В задании предлагается исследовать некоторые метрики матчинга для заказов, которые не завершились успешно (клиент в итоге не получил машину)."
      ],
      "metadata": {
        "id": "zSoHw3xe-Wuh"
      }
    },
    {
      "cell_type": "markdown",
      "source": [
        "**0.** Подготовка данных"
      ],
      "metadata": {
        "id": "zMLhGrj3-mn_"
      }
    },
    {
      "cell_type": "code",
      "execution_count": 68,
      "metadata": {
        "id": "cGlsSPRc-PUp"
      },
      "outputs": [],
      "source": [
        "import pandas as pd\n",
        "import numpy as np\n",
        "import matplotlib.pyplot as plt\n",
        "import seaborn as sns"
      ]
    },
    {
      "cell_type": "code",
      "source": [
        "df_orders = pd.read_csv('data_orders.csv')\n",
        "df_orders.info()"
      ],
      "metadata": {
        "colab": {
          "base_uri": "https://localhost:8080/"
        },
        "id": "_4yuIV2yAeeg",
        "outputId": "19a8951e-e812-4b0d-ed30-640f5381f47f"
      },
      "execution_count": 69,
      "outputs": [
        {
          "output_type": "stream",
          "name": "stdout",
          "text": [
            "<class 'pandas.core.frame.DataFrame'>\n",
            "RangeIndex: 10716 entries, 0 to 10715\n",
            "Data columns (total 8 columns):\n",
            " #   Column                         Non-Null Count  Dtype  \n",
            "---  ------                         --------------  -----  \n",
            " 0   order_datetime                 10716 non-null  object \n",
            " 1   origin_longitude               10716 non-null  float64\n",
            " 2   origin_latitude                10716 non-null  float64\n",
            " 3   m_order_eta                    2814 non-null   float64\n",
            " 4   order_gk                       10716 non-null  int64  \n",
            " 5   order_status_key               10716 non-null  int64  \n",
            " 6   is_driver_assigned_key         10716 non-null  int64  \n",
            " 7   cancellations_time_in_seconds  7307 non-null   float64\n",
            "dtypes: float64(4), int64(3), object(1)\n",
            "memory usage: 669.9+ KB\n"
          ]
        }
      ]
    },
    {
      "cell_type": "code",
      "source": [
        "df_orders['order_datetime'] = pd.to_datetime(df_orders['order_datetime'])   # изменение типа данных на datetime\n",
        "df_orders['hour'] = df_orders['order_datetime'].dt.hour   # добавление графы с часом заказа\n",
        "df_orders['order_datetime'] = df_orders['order_datetime'].dt.strftime('%H:%M:%S')   # задание формата\n",
        "df_orders.head(3)"
      ],
      "metadata": {
        "colab": {
          "base_uri": "https://localhost:8080/",
          "height": 207
        },
        "id": "KJEC5Bi2BJPg",
        "outputId": "e2007a95-5423-4477-a05f-930a140ce83e"
      },
      "execution_count": 70,
      "outputs": [
        {
          "output_type": "execute_result",
          "data": {
            "text/plain": [
              "  order_datetime  origin_longitude  origin_latitude  m_order_eta  \\\n",
              "0       18:08:07         -0.978916        51.456173         60.0   \n",
              "1       20:57:32         -0.950385        51.456843          NaN   \n",
              "2       12:07:50         -0.969520        51.455544        477.0   \n",
              "\n",
              "        order_gk  order_status_key  is_driver_assigned_key  \\\n",
              "0  3000583041974                 4                       1   \n",
              "1  3000583116437                 4                       0   \n",
              "2  3000582891479                 4                       1   \n",
              "\n",
              "   cancellations_time_in_seconds  hour  \n",
              "0                          198.0    18  \n",
              "1                          128.0    20  \n",
              "2                           46.0    12  "
            ],
            "text/html": [
              "\n",
              "  <div id=\"df-ec1280df-e4b2-444f-83c7-8fc51e05b819\">\n",
              "    <div class=\"colab-df-container\">\n",
              "      <div>\n",
              "<style scoped>\n",
              "    .dataframe tbody tr th:only-of-type {\n",
              "        vertical-align: middle;\n",
              "    }\n",
              "\n",
              "    .dataframe tbody tr th {\n",
              "        vertical-align: top;\n",
              "    }\n",
              "\n",
              "    .dataframe thead th {\n",
              "        text-align: right;\n",
              "    }\n",
              "</style>\n",
              "<table border=\"1\" class=\"dataframe\">\n",
              "  <thead>\n",
              "    <tr style=\"text-align: right;\">\n",
              "      <th></th>\n",
              "      <th>order_datetime</th>\n",
              "      <th>origin_longitude</th>\n",
              "      <th>origin_latitude</th>\n",
              "      <th>m_order_eta</th>\n",
              "      <th>order_gk</th>\n",
              "      <th>order_status_key</th>\n",
              "      <th>is_driver_assigned_key</th>\n",
              "      <th>cancellations_time_in_seconds</th>\n",
              "      <th>hour</th>\n",
              "    </tr>\n",
              "  </thead>\n",
              "  <tbody>\n",
              "    <tr>\n",
              "      <th>0</th>\n",
              "      <td>18:08:07</td>\n",
              "      <td>-0.978916</td>\n",
              "      <td>51.456173</td>\n",
              "      <td>60.0</td>\n",
              "      <td>3000583041974</td>\n",
              "      <td>4</td>\n",
              "      <td>1</td>\n",
              "      <td>198.0</td>\n",
              "      <td>18</td>\n",
              "    </tr>\n",
              "    <tr>\n",
              "      <th>1</th>\n",
              "      <td>20:57:32</td>\n",
              "      <td>-0.950385</td>\n",
              "      <td>51.456843</td>\n",
              "      <td>NaN</td>\n",
              "      <td>3000583116437</td>\n",
              "      <td>4</td>\n",
              "      <td>0</td>\n",
              "      <td>128.0</td>\n",
              "      <td>20</td>\n",
              "    </tr>\n",
              "    <tr>\n",
              "      <th>2</th>\n",
              "      <td>12:07:50</td>\n",
              "      <td>-0.969520</td>\n",
              "      <td>51.455544</td>\n",
              "      <td>477.0</td>\n",
              "      <td>3000582891479</td>\n",
              "      <td>4</td>\n",
              "      <td>1</td>\n",
              "      <td>46.0</td>\n",
              "      <td>12</td>\n",
              "    </tr>\n",
              "  </tbody>\n",
              "</table>\n",
              "</div>\n",
              "      <button class=\"colab-df-convert\" onclick=\"convertToInteractive('df-ec1280df-e4b2-444f-83c7-8fc51e05b819')\"\n",
              "              title=\"Convert this dataframe to an interactive table.\"\n",
              "              style=\"display:none;\">\n",
              "        \n",
              "  <svg xmlns=\"http://www.w3.org/2000/svg\" height=\"24px\"viewBox=\"0 0 24 24\"\n",
              "       width=\"24px\">\n",
              "    <path d=\"M0 0h24v24H0V0z\" fill=\"none\"/>\n",
              "    <path d=\"M18.56 5.44l.94 2.06.94-2.06 2.06-.94-2.06-.94-.94-2.06-.94 2.06-2.06.94zm-11 1L8.5 8.5l.94-2.06 2.06-.94-2.06-.94L8.5 2.5l-.94 2.06-2.06.94zm10 10l.94 2.06.94-2.06 2.06-.94-2.06-.94-.94-2.06-.94 2.06-2.06.94z\"/><path d=\"M17.41 7.96l-1.37-1.37c-.4-.4-.92-.59-1.43-.59-.52 0-1.04.2-1.43.59L10.3 9.45l-7.72 7.72c-.78.78-.78 2.05 0 2.83L4 21.41c.39.39.9.59 1.41.59.51 0 1.02-.2 1.41-.59l7.78-7.78 2.81-2.81c.8-.78.8-2.07 0-2.86zM5.41 20L4 18.59l7.72-7.72 1.47 1.35L5.41 20z\"/>\n",
              "  </svg>\n",
              "      </button>\n",
              "      \n",
              "  <style>\n",
              "    .colab-df-container {\n",
              "      display:flex;\n",
              "      flex-wrap:wrap;\n",
              "      gap: 12px;\n",
              "    }\n",
              "\n",
              "    .colab-df-convert {\n",
              "      background-color: #E8F0FE;\n",
              "      border: none;\n",
              "      border-radius: 50%;\n",
              "      cursor: pointer;\n",
              "      display: none;\n",
              "      fill: #1967D2;\n",
              "      height: 32px;\n",
              "      padding: 0 0 0 0;\n",
              "      width: 32px;\n",
              "    }\n",
              "\n",
              "    .colab-df-convert:hover {\n",
              "      background-color: #E2EBFA;\n",
              "      box-shadow: 0px 1px 2px rgba(60, 64, 67, 0.3), 0px 1px 3px 1px rgba(60, 64, 67, 0.15);\n",
              "      fill: #174EA6;\n",
              "    }\n",
              "\n",
              "    [theme=dark] .colab-df-convert {\n",
              "      background-color: #3B4455;\n",
              "      fill: #D2E3FC;\n",
              "    }\n",
              "\n",
              "    [theme=dark] .colab-df-convert:hover {\n",
              "      background-color: #434B5C;\n",
              "      box-shadow: 0px 1px 3px 1px rgba(0, 0, 0, 0.15);\n",
              "      filter: drop-shadow(0px 1px 2px rgba(0, 0, 0, 0.3));\n",
              "      fill: #FFFFFF;\n",
              "    }\n",
              "  </style>\n",
              "\n",
              "      <script>\n",
              "        const buttonEl =\n",
              "          document.querySelector('#df-ec1280df-e4b2-444f-83c7-8fc51e05b819 button.colab-df-convert');\n",
              "        buttonEl.style.display =\n",
              "          google.colab.kernel.accessAllowed ? 'block' : 'none';\n",
              "\n",
              "        async function convertToInteractive(key) {\n",
              "          const element = document.querySelector('#df-ec1280df-e4b2-444f-83c7-8fc51e05b819');\n",
              "          const dataTable =\n",
              "            await google.colab.kernel.invokeFunction('convertToInteractive',\n",
              "                                                     [key], {});\n",
              "          if (!dataTable) return;\n",
              "\n",
              "          const docLinkHtml = 'Like what you see? Visit the ' +\n",
              "            '<a target=\"_blank\" href=https://colab.research.google.com/notebooks/data_table.ipynb>data table notebook</a>'\n",
              "            + ' to learn more about interactive tables.';\n",
              "          element.innerHTML = '';\n",
              "          dataTable['output_type'] = 'display_data';\n",
              "          await google.colab.output.renderOutput(dataTable, element);\n",
              "          const docLink = document.createElement('div');\n",
              "          docLink.innerHTML = docLinkHtml;\n",
              "          element.appendChild(docLink);\n",
              "        }\n",
              "      </script>\n",
              "    </div>\n",
              "  </div>\n",
              "  "
            ]
          },
          "metadata": {},
          "execution_count": 70
        }
      ]
    },
    {
      "cell_type": "code",
      "source": [
        "df_orders.describe()"
      ],
      "metadata": {
        "colab": {
          "base_uri": "https://localhost:8080/",
          "height": 364
        },
        "id": "c6NEbbSVDc8C",
        "outputId": "eb8e7a52-198e-4198-9be1-cba667f8e586"
      },
      "execution_count": 71,
      "outputs": [
        {
          "output_type": "execute_result",
          "data": {
            "text/plain": [
              "       origin_longitude  origin_latitude  m_order_eta      order_gk  \\\n",
              "count      10716.000000     10716.000000  2814.000000  1.071600e+04   \n",
              "mean          -0.964323        51.450541   441.415423  3.000598e+12   \n",
              "std            0.022818         0.011984   288.006379  2.396261e+07   \n",
              "min           -1.066957        51.399323    60.000000  3.000550e+12   \n",
              "25%           -0.974363        51.444643   233.000000  3.000583e+12   \n",
              "50%           -0.966386        51.451972   368.500000  3.000595e+12   \n",
              "75%           -0.949605        51.456725   653.000000  3.000623e+12   \n",
              "max           -0.867088        51.496169  1559.000000  3.000633e+12   \n",
              "\n",
              "       order_status_key  is_driver_assigned_key  \\\n",
              "count      10716.000000            10716.000000   \n",
              "mean           5.590612                0.262598   \n",
              "std            2.328845                0.440066   \n",
              "min            4.000000                0.000000   \n",
              "25%            4.000000                0.000000   \n",
              "50%            4.000000                0.000000   \n",
              "75%            9.000000                1.000000   \n",
              "max            9.000000                1.000000   \n",
              "\n",
              "       cancellations_time_in_seconds          hour  \n",
              "count                    7307.000000  10716.000000  \n",
              "mean                      157.892021     12.395110  \n",
              "std                       213.366963      7.660695  \n",
              "min                         3.000000      0.000000  \n",
              "25%                        45.000000      7.000000  \n",
              "50%                        98.000000     13.000000  \n",
              "75%                       187.500000     20.000000  \n",
              "max                      4303.000000     23.000000  "
            ],
            "text/html": [
              "\n",
              "  <div id=\"df-999b9273-c5f6-4266-a96d-c1ebe15fee1c\">\n",
              "    <div class=\"colab-df-container\">\n",
              "      <div>\n",
              "<style scoped>\n",
              "    .dataframe tbody tr th:only-of-type {\n",
              "        vertical-align: middle;\n",
              "    }\n",
              "\n",
              "    .dataframe tbody tr th {\n",
              "        vertical-align: top;\n",
              "    }\n",
              "\n",
              "    .dataframe thead th {\n",
              "        text-align: right;\n",
              "    }\n",
              "</style>\n",
              "<table border=\"1\" class=\"dataframe\">\n",
              "  <thead>\n",
              "    <tr style=\"text-align: right;\">\n",
              "      <th></th>\n",
              "      <th>origin_longitude</th>\n",
              "      <th>origin_latitude</th>\n",
              "      <th>m_order_eta</th>\n",
              "      <th>order_gk</th>\n",
              "      <th>order_status_key</th>\n",
              "      <th>is_driver_assigned_key</th>\n",
              "      <th>cancellations_time_in_seconds</th>\n",
              "      <th>hour</th>\n",
              "    </tr>\n",
              "  </thead>\n",
              "  <tbody>\n",
              "    <tr>\n",
              "      <th>count</th>\n",
              "      <td>10716.000000</td>\n",
              "      <td>10716.000000</td>\n",
              "      <td>2814.000000</td>\n",
              "      <td>1.071600e+04</td>\n",
              "      <td>10716.000000</td>\n",
              "      <td>10716.000000</td>\n",
              "      <td>7307.000000</td>\n",
              "      <td>10716.000000</td>\n",
              "    </tr>\n",
              "    <tr>\n",
              "      <th>mean</th>\n",
              "      <td>-0.964323</td>\n",
              "      <td>51.450541</td>\n",
              "      <td>441.415423</td>\n",
              "      <td>3.000598e+12</td>\n",
              "      <td>5.590612</td>\n",
              "      <td>0.262598</td>\n",
              "      <td>157.892021</td>\n",
              "      <td>12.395110</td>\n",
              "    </tr>\n",
              "    <tr>\n",
              "      <th>std</th>\n",
              "      <td>0.022818</td>\n",
              "      <td>0.011984</td>\n",
              "      <td>288.006379</td>\n",
              "      <td>2.396261e+07</td>\n",
              "      <td>2.328845</td>\n",
              "      <td>0.440066</td>\n",
              "      <td>213.366963</td>\n",
              "      <td>7.660695</td>\n",
              "    </tr>\n",
              "    <tr>\n",
              "      <th>min</th>\n",
              "      <td>-1.066957</td>\n",
              "      <td>51.399323</td>\n",
              "      <td>60.000000</td>\n",
              "      <td>3.000550e+12</td>\n",
              "      <td>4.000000</td>\n",
              "      <td>0.000000</td>\n",
              "      <td>3.000000</td>\n",
              "      <td>0.000000</td>\n",
              "    </tr>\n",
              "    <tr>\n",
              "      <th>25%</th>\n",
              "      <td>-0.974363</td>\n",
              "      <td>51.444643</td>\n",
              "      <td>233.000000</td>\n",
              "      <td>3.000583e+12</td>\n",
              "      <td>4.000000</td>\n",
              "      <td>0.000000</td>\n",
              "      <td>45.000000</td>\n",
              "      <td>7.000000</td>\n",
              "    </tr>\n",
              "    <tr>\n",
              "      <th>50%</th>\n",
              "      <td>-0.966386</td>\n",
              "      <td>51.451972</td>\n",
              "      <td>368.500000</td>\n",
              "      <td>3.000595e+12</td>\n",
              "      <td>4.000000</td>\n",
              "      <td>0.000000</td>\n",
              "      <td>98.000000</td>\n",
              "      <td>13.000000</td>\n",
              "    </tr>\n",
              "    <tr>\n",
              "      <th>75%</th>\n",
              "      <td>-0.949605</td>\n",
              "      <td>51.456725</td>\n",
              "      <td>653.000000</td>\n",
              "      <td>3.000623e+12</td>\n",
              "      <td>9.000000</td>\n",
              "      <td>1.000000</td>\n",
              "      <td>187.500000</td>\n",
              "      <td>20.000000</td>\n",
              "    </tr>\n",
              "    <tr>\n",
              "      <th>max</th>\n",
              "      <td>-0.867088</td>\n",
              "      <td>51.496169</td>\n",
              "      <td>1559.000000</td>\n",
              "      <td>3.000633e+12</td>\n",
              "      <td>9.000000</td>\n",
              "      <td>1.000000</td>\n",
              "      <td>4303.000000</td>\n",
              "      <td>23.000000</td>\n",
              "    </tr>\n",
              "  </tbody>\n",
              "</table>\n",
              "</div>\n",
              "      <button class=\"colab-df-convert\" onclick=\"convertToInteractive('df-999b9273-c5f6-4266-a96d-c1ebe15fee1c')\"\n",
              "              title=\"Convert this dataframe to an interactive table.\"\n",
              "              style=\"display:none;\">\n",
              "        \n",
              "  <svg xmlns=\"http://www.w3.org/2000/svg\" height=\"24px\"viewBox=\"0 0 24 24\"\n",
              "       width=\"24px\">\n",
              "    <path d=\"M0 0h24v24H0V0z\" fill=\"none\"/>\n",
              "    <path d=\"M18.56 5.44l.94 2.06.94-2.06 2.06-.94-2.06-.94-.94-2.06-.94 2.06-2.06.94zm-11 1L8.5 8.5l.94-2.06 2.06-.94-2.06-.94L8.5 2.5l-.94 2.06-2.06.94zm10 10l.94 2.06.94-2.06 2.06-.94-2.06-.94-.94-2.06-.94 2.06-2.06.94z\"/><path d=\"M17.41 7.96l-1.37-1.37c-.4-.4-.92-.59-1.43-.59-.52 0-1.04.2-1.43.59L10.3 9.45l-7.72 7.72c-.78.78-.78 2.05 0 2.83L4 21.41c.39.39.9.59 1.41.59.51 0 1.02-.2 1.41-.59l7.78-7.78 2.81-2.81c.8-.78.8-2.07 0-2.86zM5.41 20L4 18.59l7.72-7.72 1.47 1.35L5.41 20z\"/>\n",
              "  </svg>\n",
              "      </button>\n",
              "      \n",
              "  <style>\n",
              "    .colab-df-container {\n",
              "      display:flex;\n",
              "      flex-wrap:wrap;\n",
              "      gap: 12px;\n",
              "    }\n",
              "\n",
              "    .colab-df-convert {\n",
              "      background-color: #E8F0FE;\n",
              "      border: none;\n",
              "      border-radius: 50%;\n",
              "      cursor: pointer;\n",
              "      display: none;\n",
              "      fill: #1967D2;\n",
              "      height: 32px;\n",
              "      padding: 0 0 0 0;\n",
              "      width: 32px;\n",
              "    }\n",
              "\n",
              "    .colab-df-convert:hover {\n",
              "      background-color: #E2EBFA;\n",
              "      box-shadow: 0px 1px 2px rgba(60, 64, 67, 0.3), 0px 1px 3px 1px rgba(60, 64, 67, 0.15);\n",
              "      fill: #174EA6;\n",
              "    }\n",
              "\n",
              "    [theme=dark] .colab-df-convert {\n",
              "      background-color: #3B4455;\n",
              "      fill: #D2E3FC;\n",
              "    }\n",
              "\n",
              "    [theme=dark] .colab-df-convert:hover {\n",
              "      background-color: #434B5C;\n",
              "      box-shadow: 0px 1px 3px 1px rgba(0, 0, 0, 0.15);\n",
              "      filter: drop-shadow(0px 1px 2px rgba(0, 0, 0, 0.3));\n",
              "      fill: #FFFFFF;\n",
              "    }\n",
              "  </style>\n",
              "\n",
              "      <script>\n",
              "        const buttonEl =\n",
              "          document.querySelector('#df-999b9273-c5f6-4266-a96d-c1ebe15fee1c button.colab-df-convert');\n",
              "        buttonEl.style.display =\n",
              "          google.colab.kernel.accessAllowed ? 'block' : 'none';\n",
              "\n",
              "        async function convertToInteractive(key) {\n",
              "          const element = document.querySelector('#df-999b9273-c5f6-4266-a96d-c1ebe15fee1c');\n",
              "          const dataTable =\n",
              "            await google.colab.kernel.invokeFunction('convertToInteractive',\n",
              "                                                     [key], {});\n",
              "          if (!dataTable) return;\n",
              "\n",
              "          const docLinkHtml = 'Like what you see? Visit the ' +\n",
              "            '<a target=\"_blank\" href=https://colab.research.google.com/notebooks/data_table.ipynb>data table notebook</a>'\n",
              "            + ' to learn more about interactive tables.';\n",
              "          element.innerHTML = '';\n",
              "          dataTable['output_type'] = 'display_data';\n",
              "          await google.colab.output.renderOutput(dataTable, element);\n",
              "          const docLink = document.createElement('div');\n",
              "          docLink.innerHTML = docLinkHtml;\n",
              "          element.appendChild(docLink);\n",
              "        }\n",
              "      </script>\n",
              "    </div>\n",
              "  </div>\n",
              "  "
            ]
          },
          "metadata": {},
          "execution_count": 71
        }
      ]
    },
    {
      "cell_type": "markdown",
      "source": [
        "Стооблец \"m_order_eta\" содержит значительное количество пропусков"
      ],
      "metadata": {
        "id": "Xu9pFnjtDenn"
      }
    },
    {
      "cell_type": "code",
      "source": [
        "df_orders['order_gk'][df_orders['cancellations_time_in_seconds'] > max(df_orders['m_order_eta'])].count()"
      ],
      "metadata": {
        "colab": {
          "base_uri": "https://localhost:8080/"
        },
        "id": "_fYvmx4wDv6A",
        "outputId": "e07a20f1-0ef7-4a3a-dab6-82274a76f2a0"
      },
      "execution_count": 72,
      "outputs": [
        {
          "output_type": "execute_result",
          "data": {
            "text/plain": [
              "16"
            ]
          },
          "metadata": {},
          "execution_count": 72
        }
      ]
    },
    {
      "cell_type": "markdown",
      "source": [
        "*Имеются случаи, когда отмена заказов производилась после ожидания, кратно превышающего наибольшее в датафрейме значение ожидаемого времени прибытия машины*"
      ],
      "metadata": {
        "id": "bYQzeZm2EmF7"
      }
    },
    {
      "cell_type": "code",
      "source": [
        "df_offers = pd.read_csv('data_offers.csv')\n",
        "df_offers.info()"
      ],
      "metadata": {
        "colab": {
          "base_uri": "https://localhost:8080/"
        },
        "id": "Bmag4dPtBJR1",
        "outputId": "acbbe083-160b-48cf-98bb-5cbd324dc645"
      },
      "execution_count": 73,
      "outputs": [
        {
          "output_type": "stream",
          "name": "stdout",
          "text": [
            "<class 'pandas.core.frame.DataFrame'>\n",
            "RangeIndex: 334363 entries, 0 to 334362\n",
            "Data columns (total 2 columns):\n",
            " #   Column    Non-Null Count   Dtype\n",
            "---  ------    --------------   -----\n",
            " 0   order_gk  334363 non-null  int64\n",
            " 1   offer_id  334363 non-null  int64\n",
            "dtypes: int64(2)\n",
            "memory usage: 5.1 MB\n"
          ]
        }
      ]
    },
    {
      "cell_type": "markdown",
      "source": [
        "**1.** Постройте распределение заказов по причинам неуспеха: отмены до и после назначения водителя, режекты"
      ],
      "metadata": {
        "id": "emaWa51_-RjV"
      }
    },
    {
      "cell_type": "code",
      "source": [
        "df_reject_distr = df_orders.groupby(['order_status_key', 'is_driver_assigned_key'])['order_gk']\\\n",
        ".nunique().sort_values(ascending=False).reset_index()\n",
        "\n",
        "def total_idx(row):\n",
        "    if row['order_status_key'] == 4:\n",
        "        idx_1 = 'отмена клиентом'\n",
        "    else:\n",
        "        idx_1 = 'отмена системой'\n",
        "    if row['is_driver_assigned_key'] == 0:\n",
        "        idx_2 = 'водитель не назначен'\n",
        "    else:\n",
        "        idx_2 = 'водитель назначен'\n",
        "    return idx_1 + ' / ' + idx_2\n",
        "\n",
        "df_reject_distr['total_idx'] = df_reject_distr.apply(total_idx, axis=1)\n",
        "df_reject_distr"
      ],
      "metadata": {
        "colab": {
          "base_uri": "https://localhost:8080/",
          "height": 175
        },
        "id": "BUs8PJZ--rkS",
        "outputId": "1cee95c6-1472-4785-df1d-79f40a5789fc"
      },
      "execution_count": 74,
      "outputs": [
        {
          "output_type": "execute_result",
          "data": {
            "text/plain": [
              "   order_status_key  is_driver_assigned_key  order_gk  \\\n",
              "0                 4                       0      4496   \n",
              "1                 9                       0      3406   \n",
              "2                 4                       1      2811   \n",
              "3                 9                       1         3   \n",
              "\n",
              "                                total_idx  \n",
              "0  отмена клиентом / водитель не назначен  \n",
              "1  отмена системой / водитель не назначен  \n",
              "2     отмена клиентом / водитель назначен  \n",
              "3     отмена системой / водитель назначен  "
            ],
            "text/html": [
              "\n",
              "  <div id=\"df-22fe30e0-84ed-4f6c-b40b-1c693dfdcf27\">\n",
              "    <div class=\"colab-df-container\">\n",
              "      <div>\n",
              "<style scoped>\n",
              "    .dataframe tbody tr th:only-of-type {\n",
              "        vertical-align: middle;\n",
              "    }\n",
              "\n",
              "    .dataframe tbody tr th {\n",
              "        vertical-align: top;\n",
              "    }\n",
              "\n",
              "    .dataframe thead th {\n",
              "        text-align: right;\n",
              "    }\n",
              "</style>\n",
              "<table border=\"1\" class=\"dataframe\">\n",
              "  <thead>\n",
              "    <tr style=\"text-align: right;\">\n",
              "      <th></th>\n",
              "      <th>order_status_key</th>\n",
              "      <th>is_driver_assigned_key</th>\n",
              "      <th>order_gk</th>\n",
              "      <th>total_idx</th>\n",
              "    </tr>\n",
              "  </thead>\n",
              "  <tbody>\n",
              "    <tr>\n",
              "      <th>0</th>\n",
              "      <td>4</td>\n",
              "      <td>0</td>\n",
              "      <td>4496</td>\n",
              "      <td>отмена клиентом / водитель не назначен</td>\n",
              "    </tr>\n",
              "    <tr>\n",
              "      <th>1</th>\n",
              "      <td>9</td>\n",
              "      <td>0</td>\n",
              "      <td>3406</td>\n",
              "      <td>отмена системой / водитель не назначен</td>\n",
              "    </tr>\n",
              "    <tr>\n",
              "      <th>2</th>\n",
              "      <td>4</td>\n",
              "      <td>1</td>\n",
              "      <td>2811</td>\n",
              "      <td>отмена клиентом / водитель назначен</td>\n",
              "    </tr>\n",
              "    <tr>\n",
              "      <th>3</th>\n",
              "      <td>9</td>\n",
              "      <td>1</td>\n",
              "      <td>3</td>\n",
              "      <td>отмена системой / водитель назначен</td>\n",
              "    </tr>\n",
              "  </tbody>\n",
              "</table>\n",
              "</div>\n",
              "      <button class=\"colab-df-convert\" onclick=\"convertToInteractive('df-22fe30e0-84ed-4f6c-b40b-1c693dfdcf27')\"\n",
              "              title=\"Convert this dataframe to an interactive table.\"\n",
              "              style=\"display:none;\">\n",
              "        \n",
              "  <svg xmlns=\"http://www.w3.org/2000/svg\" height=\"24px\"viewBox=\"0 0 24 24\"\n",
              "       width=\"24px\">\n",
              "    <path d=\"M0 0h24v24H0V0z\" fill=\"none\"/>\n",
              "    <path d=\"M18.56 5.44l.94 2.06.94-2.06 2.06-.94-2.06-.94-.94-2.06-.94 2.06-2.06.94zm-11 1L8.5 8.5l.94-2.06 2.06-.94-2.06-.94L8.5 2.5l-.94 2.06-2.06.94zm10 10l.94 2.06.94-2.06 2.06-.94-2.06-.94-.94-2.06-.94 2.06-2.06.94z\"/><path d=\"M17.41 7.96l-1.37-1.37c-.4-.4-.92-.59-1.43-.59-.52 0-1.04.2-1.43.59L10.3 9.45l-7.72 7.72c-.78.78-.78 2.05 0 2.83L4 21.41c.39.39.9.59 1.41.59.51 0 1.02-.2 1.41-.59l7.78-7.78 2.81-2.81c.8-.78.8-2.07 0-2.86zM5.41 20L4 18.59l7.72-7.72 1.47 1.35L5.41 20z\"/>\n",
              "  </svg>\n",
              "      </button>\n",
              "      \n",
              "  <style>\n",
              "    .colab-df-container {\n",
              "      display:flex;\n",
              "      flex-wrap:wrap;\n",
              "      gap: 12px;\n",
              "    }\n",
              "\n",
              "    .colab-df-convert {\n",
              "      background-color: #E8F0FE;\n",
              "      border: none;\n",
              "      border-radius: 50%;\n",
              "      cursor: pointer;\n",
              "      display: none;\n",
              "      fill: #1967D2;\n",
              "      height: 32px;\n",
              "      padding: 0 0 0 0;\n",
              "      width: 32px;\n",
              "    }\n",
              "\n",
              "    .colab-df-convert:hover {\n",
              "      background-color: #E2EBFA;\n",
              "      box-shadow: 0px 1px 2px rgba(60, 64, 67, 0.3), 0px 1px 3px 1px rgba(60, 64, 67, 0.15);\n",
              "      fill: #174EA6;\n",
              "    }\n",
              "\n",
              "    [theme=dark] .colab-df-convert {\n",
              "      background-color: #3B4455;\n",
              "      fill: #D2E3FC;\n",
              "    }\n",
              "\n",
              "    [theme=dark] .colab-df-convert:hover {\n",
              "      background-color: #434B5C;\n",
              "      box-shadow: 0px 1px 3px 1px rgba(0, 0, 0, 0.15);\n",
              "      filter: drop-shadow(0px 1px 2px rgba(0, 0, 0, 0.3));\n",
              "      fill: #FFFFFF;\n",
              "    }\n",
              "  </style>\n",
              "\n",
              "      <script>\n",
              "        const buttonEl =\n",
              "          document.querySelector('#df-22fe30e0-84ed-4f6c-b40b-1c693dfdcf27 button.colab-df-convert');\n",
              "        buttonEl.style.display =\n",
              "          google.colab.kernel.accessAllowed ? 'block' : 'none';\n",
              "\n",
              "        async function convertToInteractive(key) {\n",
              "          const element = document.querySelector('#df-22fe30e0-84ed-4f6c-b40b-1c693dfdcf27');\n",
              "          const dataTable =\n",
              "            await google.colab.kernel.invokeFunction('convertToInteractive',\n",
              "                                                     [key], {});\n",
              "          if (!dataTable) return;\n",
              "\n",
              "          const docLinkHtml = 'Like what you see? Visit the ' +\n",
              "            '<a target=\"_blank\" href=https://colab.research.google.com/notebooks/data_table.ipynb>data table notebook</a>'\n",
              "            + ' to learn more about interactive tables.';\n",
              "          element.innerHTML = '';\n",
              "          dataTable['output_type'] = 'display_data';\n",
              "          await google.colab.output.renderOutput(dataTable, element);\n",
              "          const docLink = document.createElement('div');\n",
              "          docLink.innerHTML = docLinkHtml;\n",
              "          element.appendChild(docLink);\n",
              "        }\n",
              "      </script>\n",
              "    </div>\n",
              "  </div>\n",
              "  "
            ]
          },
          "metadata": {},
          "execution_count": 74
        }
      ]
    },
    {
      "cell_type": "code",
      "source": [
        "sns.set(style=\"darkgrid\")\n",
        "plt.figure(figsize=(7, 4))\n",
        "\n",
        "ax = sns.barplot(\n",
        "    x=\"order_gk\", \n",
        "    y=\"total_idx\", \n",
        "    data=df_reject_distr, \n",
        "    estimator=sum,\n",
        "    color='blue')\n",
        "\n",
        "plt.xlabel('Количество заказов')\n",
        "plt.ylabel('Сочетание факторов')\n",
        "plt.title('Распределение отмененных заказов')"
      ],
      "metadata": {
        "colab": {
          "base_uri": "https://localhost:8080/",
          "height": 318
        },
        "id": "3RBTHVIZraGg",
        "outputId": "ac75df80-5513-40d2-ccd9-f3430a7f212e"
      },
      "execution_count": 75,
      "outputs": [
        {
          "output_type": "execute_result",
          "data": {
            "text/plain": [
              "Text(0.5, 1.0, 'Распределение отмененных заказов')"
            ]
          },
          "metadata": {},
          "execution_count": 75
        },
        {
          "output_type": "display_data",
          "data": {
            "text/plain": [
              "<Figure size 504x288 with 1 Axes>"
            ],
            "image/png": "[encoded data removed]"
          },
          "metadata": {}
        }
      ]
    },
    {
      "cell_type": "markdown",
      "source": [
        "Проанализируйте полученный график - в какой категории наибольшое количество заказов?"
      ],
      "metadata": {
        "id": "lx9v7M4H-0Ds"
      }
    },
    {
      "cell_type": "markdown",
      "source": [
        "**Выводы:**\n",
        "- большая часть заказов (~74%) была отменена клиентами самостоятельно либо отменены системой **до назначения водителя**\n",
        "- 26% заказов была отменена **клиентами** самостоятельно при уже **назначенном водителе** *(вероятные причины - долгое ожидание, водитель не двигался на карте либо ехал в другую сторону / завершал другой заказ)*\n",
        "- лишь 3 заказа были отменены системой при уже назначенном водителе"
      ],
      "metadata": {
        "id": "zcd8LDbqGtKx"
      }
    },
    {
      "cell_type": "markdown",
      "source": [
        "**2.** Постройте график распределения фейлов по часам - наблюдается ли тендеция, что в какие то часы доля той или иной категории аномально высока?"
      ],
      "metadata": {
        "id": "nlQcJnCd-Rlc"
      }
    },
    {
      "cell_type": "code",
      "source": [
        "df_reject_hourly = df_orders.groupby(['hour'])['order_status_key'].value_counts().sort_values(ascending=False)\n",
        "df_reject_hourly.head()"
      ],
      "metadata": {
        "colab": {
          "base_uri": "https://localhost:8080/"
        },
        "id": "hlpC8Af1InKn",
        "outputId": "71fd66e3-60f0-4b29-9241-f7e552f520c3"
      },
      "execution_count": 76,
      "outputs": [
        {
          "output_type": "execute_result",
          "data": {
            "text/plain": [
              "hour  order_status_key\n",
              "8     4                   727\n",
              "21    4                   550\n",
              "23    4                   534\n",
              "22    4                   475\n",
              "0     4                   418\n",
              "Name: order_status_key, dtype: int64"
            ]
          },
          "metadata": {},
          "execution_count": 76
        }
      ]
    },
    {
      "cell_type": "code",
      "source": [
        "plt.figure(figsize = (16,6))\n",
        "df_reject_hourly.plot(kind = 'bar', color='blue')\n",
        "plt.title('Распределение фейлов (4 - отмена клиентами, 9 - отмена системой) по часам в течение суток')\n",
        "plt.ylabel('Количество заказов')\n",
        "plt.xlabel('Час суток, инициатор отмены')"
      ],
      "metadata": {
        "colab": {
          "base_uri": "https://localhost:8080/",
          "height": 411
        },
        "id": "sI56ShdL-scb",
        "outputId": "d820cd09-9fb2-4db9-f003-692cbebfd66b"
      },
      "execution_count": 77,
      "outputs": [
        {
          "output_type": "execute_result",
          "data": {
            "text/plain": [
              "Text(0.5, 0, 'Час суток, инициатор отмены')"
            ]
          },
          "metadata": {},
          "execution_count": 77
        },
        {
          "output_type": "display_data",
          "data": {
            "text/plain": [
              "<Figure size 1152x432 with 1 Axes>"
            ],
            "image/png": "[encoded data removed]"
          },
          "metadata": {}
        }
      ]
    },
    {
      "cell_type": "code",
      "source": [
        "# отдельно по отмененным клиентами (статус 4):\n",
        "df_reject_hourly_4 = df_orders[df_orders['order_status_key'] == 4].groupby(['hour'])['order_status_key'].value_counts().sort_values(ascending=False)\n",
        "\n",
        "plt.figure(figsize = (16,6))\n",
        "df_reject_hourly_4.plot(kind = 'bar', color='blue')\n",
        "plt.title('Распределение отмененных клиентами (4) заказов по часам в течение суток')\n",
        "plt.ylabel('Количество заказов')\n",
        "plt.xlabel('Час суток, инициатор отмены')"
      ],
      "metadata": {
        "colab": {
          "base_uri": "https://localhost:8080/",
          "height": 411
        },
        "id": "a39Vk8OkINSV",
        "outputId": "58b446c6-9176-43c0-ab5c-2e230348a23f"
      },
      "execution_count": 78,
      "outputs": [
        {
          "output_type": "execute_result",
          "data": {
            "text/plain": [
              "Text(0.5, 0, 'Час суток, инициатор отмены')"
            ]
          },
          "metadata": {},
          "execution_count": 78
        },
        {
          "output_type": "display_data",
          "data": {
            "text/plain": [
              "<Figure size 1152x432 with 1 Axes>"
            ],
            "image/png": "[encoded data removed]"
          },
          "metadata": {}
        }
      ]
    },
    {
      "cell_type": "code",
      "source": [
        "# отдельно по отмененным системой (статус 9):\n",
        "df_reject_hourly_9 = df_orders[df_orders['order_status_key'] == 9].groupby(['hour'])['order_status_key'].value_counts().sort_values(ascending=False)\n",
        "\n",
        "plt.figure(figsize = (16,6))\n",
        "df_reject_hourly_9.plot(kind = 'bar', color='blue')\n",
        "plt.title('Распределение отмененных системой (9) заказов по часам в течение суток')\n",
        "plt.ylabel('Количество заказов')\n",
        "plt.xlabel('Час суток, инициатор отмены')"
      ],
      "metadata": {
        "colab": {
          "base_uri": "https://localhost:8080/",
          "height": 411
        },
        "id": "9xs8wPmvINUm",
        "outputId": "aea2f2b3-363f-4366-ac15-f1533a2fdfc7"
      },
      "execution_count": 79,
      "outputs": [
        {
          "output_type": "execute_result",
          "data": {
            "text/plain": [
              "Text(0.5, 0, 'Час суток, инициатор отмены')"
            ]
          },
          "metadata": {},
          "execution_count": 79
        },
        {
          "output_type": "display_data",
          "data": {
            "text/plain": [
              "<Figure size 1152x432 with 1 Axes>"
            ],
            "image/png": "[encoded data removed]"
          },
          "metadata": {}
        }
      ]
    },
    {
      "cell_type": "code",
      "source": [
        "# накопительная нормализованная диаграмма по типам отмененных заказов по часам суток - подготовка данных\n",
        "df_reject_hourly_v2 = df_reject_hourly.rename('count')\n",
        "df_reject_hourly_v2 = df_reject_hourly_v2.reset_index()\n",
        "df_reject_hourly_4v2 = df_reject_hourly_v2[df_reject_hourly_v2['order_status_key'] == 4].sort_values(by='hour').set_index('hour')\n",
        "df_reject_hourly_9v2 = df_reject_hourly_v2[df_reject_hourly_v2['order_status_key'] == 9].sort_values(by='hour').set_index('hour')\n",
        "df_reject_hourly_4v2 = df_reject_hourly_4v2['count'].tolist()\n",
        "df_reject_hourly_9v2 = df_reject_hourly_9v2['count'].tolist()"
      ],
      "metadata": {
        "id": "Og7yf3qNQpJN"
      },
      "execution_count": 80,
      "outputs": []
    },
    {
      "cell_type": "code",
      "source": [
        "# построение диаграммы:\n",
        "\n",
        "r = range(0,24)\n",
        "raw_data = {'status_4': df_reject_hourly_4v2, 'status_9': df_reject_hourly_9v2}\n",
        "df = pd.DataFrame(raw_data)\n",
        "\n",
        "totals = [i+j for i,j in zip(df_reject_hourly_4v2, df_reject_hourly_9v2)]\n",
        "bar1 = [i / j * 100 for i,j in zip(df_reject_hourly_4v2, totals)]\n",
        "bar2 = [i / j * 100 for i,j in zip(df_reject_hourly_9v2, totals)]\n",
        "\n",
        "plt.figure(figsize = (16,5))\n",
        "barWidth = 0.85\n",
        "plt.bar(r, bar1, color='blue', edgecolor='white', width=barWidth)\n",
        "plt.bar(r, bar2, bottom=bar1, color='orange', edgecolor='white', width=barWidth)\n",
        "plt.xlabel(\"час\")\n",
        "plt.ylabel(\"% от общего количества отмененных заказов\")\n",
        "\n",
        "# синий цвет - отменены клиентами, оранжевый - отменены системой"
      ],
      "metadata": {
        "colab": {
          "base_uri": "https://localhost:8080/",
          "height": 333
        },
        "id": "GLmqklYZPKXT",
        "outputId": "436ff995-626d-4b18-970a-0844458a5571"
      },
      "execution_count": 81,
      "outputs": [
        {
          "output_type": "execute_result",
          "data": {
            "text/plain": [
              "Text(0, 0.5, '% от общего количества отмененных заказов')"
            ]
          },
          "metadata": {},
          "execution_count": 81
        },
        {
          "output_type": "display_data",
          "data": {
            "text/plain": [
              "<Figure size 1152x360 with 1 Axes>"
            ],
            "image/png": "[encoded data removed]"
          },
          "metadata": {}
        }
      ]
    },
    {
      "cell_type": "markdown",
      "source": [
        "В какие часы фейлов больше всего? Чем это можно объяснить?"
      ],
      "metadata": {
        "id": "9mUNLTn9_LOS"
      }
    },
    {
      "cell_type": "markdown",
      "source": [
        "**Выводы:**\n",
        "\n",
        "1) Наибольшее количество отмененных заказов приходится на 8 утра (причем как отмененных клиентами, так и системой). Это, вероятнее всего, связано с длительным временем ожидания и высокой ценой поездки в утренний час пик.\n",
        "\n",
        "2) Чуть меньшее количество отмененных заказов по обеим категориям отмен фиксируется в интервале с 21 до 00 (24) часов. Предполагаемая причина - в выходные дни клиенты разъезжаются из гостей / ресторанов / с иных массовых мероприятий, и могут быть склонны к импульсивной отмене заказов (решили куда-то еще зайти, поехать на метро, взять каршгеринг и т.п.).\n",
        "\n",
        "3) Наименьшее количество отмен заказов фиксируется в 5 часов утра, что может быть связано с малым количеством заказов в это время суток. Кроме того, клиенты, заказывающие такси в 5 утра, вероятнее всего куда-то спешат (аэропорт, вокзал, раннее совещания на работе и т.п.) и не имеют возможности отменить заказ.\n",
        "\n",
        "4) Соотношение доли заказов, отмененных клиентами и системой, в течение суток значительно варьируется:\n",
        "  - наибольшая доля отмененных системой заказов - в ночные часы (до 6 утра)\n",
        "  - наибольшая доли отмененных клиентами заказов - в утренние, дневный и вечерние часы (максимум - в 11 утра)\n",
        "\n",
        "Данный факт можно объяснить меньшим общим количеством заказов в ночное время, а также меньшим количеством водителей в ночное время, находящихся на смене."
      ],
      "metadata": {
        "id": "q74i7xKz_LRN"
      }
    },
    {
      "cell_type": "markdown",
      "source": [
        "**3.** Постройте графики среднего времени до отмены (cancellations_time_in_seconds) с водителем и без, по часам. Если есть выбросы в данных - лучше удалить. Можно ли сделать выводы по этому графику?"
      ],
      "metadata": {
        "id": "f3NYMjIw-Rn6"
      }
    },
    {
      "cell_type": "code",
      "source": [
        "# проверка записей, в которых не было указано время отмены заказа:\n",
        "df_orders.loc[df_orders['cancellations_time_in_seconds'].isna() == True].order_status_key.value_counts()"
      ],
      "metadata": {
        "colab": {
          "base_uri": "https://localhost:8080/"
        },
        "id": "F3RSZ30q-sJV",
        "outputId": "66b6f42c-faef-4450-e530-de8d036a0526"
      },
      "execution_count": 82,
      "outputs": [
        {
          "output_type": "execute_result",
          "data": {
            "text/plain": [
              "9    3409\n",
              "Name: order_status_key, dtype: int64"
            ]
          },
          "metadata": {},
          "execution_count": 82
        }
      ]
    },
    {
      "cell_type": "markdown",
      "source": [
        "*Все заказы с не указанным временем отмены соответствуют заказам, отмененным системой*"
      ],
      "metadata": {
        "id": "w0Qt9-NqWBQj"
      }
    },
    {
      "cell_type": "code",
      "source": [
        "# Метрики (медиана и мода) без замены пропусков:\n",
        "print(f\"Медиана: {df_orders['cancellations_time_in_seconds'].median()}\")\n",
        "print(f\"Мода: {df_orders['cancellations_time_in_seconds'].mode()[0]}\")"
      ],
      "metadata": {
        "colab": {
          "base_uri": "https://localhost:8080/"
        },
        "id": "sEhqgvjiVra8",
        "outputId": "7210b060-799b-4f92-bd23-9b5fe18461b4"
      },
      "execution_count": 83,
      "outputs": [
        {
          "output_type": "stream",
          "name": "stdout",
          "text": [
            "Медиана: 98.0\n",
            "Мода: 10.0\n"
          ]
        }
      ]
    },
    {
      "cell_type": "code",
      "source": [
        "# Замена пропусков медианой исходя из времени суток (часа):\n",
        "df_orders['cancellations_time_in_seconds'].fillna(df_orders.groupby('hour')['cancellations_time_in_seconds'].transform('median'), inplace=True)\n",
        "df_orders.head()"
      ],
      "metadata": {
        "colab": {
          "base_uri": "https://localhost:8080/",
          "height": 270
        },
        "id": "ReAR45E6VrdY",
        "outputId": "613c3b1e-4889-4ee4-a2c4-2e6f7cbc54e4"
      },
      "execution_count": 84,
      "outputs": [
        {
          "output_type": "execute_result",
          "data": {
            "text/plain": [
              "  order_datetime  origin_longitude  origin_latitude  m_order_eta  \\\n",
              "0       18:08:07         -0.978916        51.456173         60.0   \n",
              "1       20:57:32         -0.950385        51.456843          NaN   \n",
              "2       12:07:50         -0.969520        51.455544        477.0   \n",
              "3       13:50:20         -1.054671        51.460544        658.0   \n",
              "4       21:24:45         -0.967605        51.458236          NaN   \n",
              "\n",
              "        order_gk  order_status_key  is_driver_assigned_key  \\\n",
              "0  3000583041974                 4                       1   \n",
              "1  3000583116437                 4                       0   \n",
              "2  3000582891479                 4                       1   \n",
              "3  3000582941169                 4                       1   \n",
              "4  3000583140877                 9                       0   \n",
              "\n",
              "   cancellations_time_in_seconds  hour  \n",
              "0                          198.0    18  \n",
              "1                          128.0    20  \n",
              "2                           46.0    12  \n",
              "3                           62.0    13  \n",
              "4                          103.0    21  "
            ],
            "text/html": [
              "\n",
              "  <div id=\"df-5c807493-5702-4da2-9510-dfc10c6468f8\">\n",
              "    <div class=\"colab-df-container\">\n",
              "      <div>\n",
              "<style scoped>\n",
              "    .dataframe tbody tr th:only-of-type {\n",
              "        vertical-align: middle;\n",
              "    }\n",
              "\n",
              "    .dataframe tbody tr th {\n",
              "        vertical-align: top;\n",
              "    }\n",
              "\n",
              "    .dataframe thead th {\n",
              "        text-align: right;\n",
              "    }\n",
              "</style>\n",
              "<table border=\"1\" class=\"dataframe\">\n",
              "  <thead>\n",
              "    <tr style=\"text-align: right;\">\n",
              "      <th></th>\n",
              "      <th>order_datetime</th>\n",
              "      <th>origin_longitude</th>\n",
              "      <th>origin_latitude</th>\n",
              "      <th>m_order_eta</th>\n",
              "      <th>order_gk</th>\n",
              "      <th>order_status_key</th>\n",
              "      <th>is_driver_assigned_key</th>\n",
              "      <th>cancellations_time_in_seconds</th>\n",
              "      <th>hour</th>\n",
              "    </tr>\n",
              "  </thead>\n",
              "  <tbody>\n",
              "    <tr>\n",
              "      <th>0</th>\n",
              "      <td>18:08:07</td>\n",
              "      <td>-0.978916</td>\n",
              "      <td>51.456173</td>\n",
              "      <td>60.0</td>\n",
              "      <td>3000583041974</td>\n",
              "      <td>4</td>\n",
              "      <td>1</td>\n",
              "      <td>198.0</td>\n",
              "      <td>18</td>\n",
              "    </tr>\n",
              "    <tr>\n",
              "      <th>1</th>\n",
              "      <td>20:57:32</td>\n",
              "      <td>-0.950385</td>\n",
              "      <td>51.456843</td>\n",
              "      <td>NaN</td>\n",
              "      <td>3000583116437</td>\n",
              "      <td>4</td>\n",
              "      <td>0</td>\n",
              "      <td>128.0</td>\n",
              "      <td>20</td>\n",
              "    </tr>\n",
              "    <tr>\n",
              "      <th>2</th>\n",
              "      <td>12:07:50</td>\n",
              "      <td>-0.969520</td>\n",
              "      <td>51.455544</td>\n",
              "      <td>477.0</td>\n",
              "      <td>3000582891479</td>\n",
              "      <td>4</td>\n",
              "      <td>1</td>\n",
              "      <td>46.0</td>\n",
              "      <td>12</td>\n",
              "    </tr>\n",
              "    <tr>\n",
              "      <th>3</th>\n",
              "      <td>13:50:20</td>\n",
              "      <td>-1.054671</td>\n",
              "      <td>51.460544</td>\n",
              "      <td>658.0</td>\n",
              "      <td>3000582941169</td>\n",
              "      <td>4</td>\n",
              "      <td>1</td>\n",
              "      <td>62.0</td>\n",
              "      <td>13</td>\n",
              "    </tr>\n",
              "    <tr>\n",
              "      <th>4</th>\n",
              "      <td>21:24:45</td>\n",
              "      <td>-0.967605</td>\n",
              "      <td>51.458236</td>\n",
              "      <td>NaN</td>\n",
              "      <td>3000583140877</td>\n",
              "      <td>9</td>\n",
              "      <td>0</td>\n",
              "      <td>103.0</td>\n",
              "      <td>21</td>\n",
              "    </tr>\n",
              "  </tbody>\n",
              "</table>\n",
              "</div>\n",
              "      <button class=\"colab-df-convert\" onclick=\"convertToInteractive('df-5c807493-5702-4da2-9510-dfc10c6468f8')\"\n",
              "              title=\"Convert this dataframe to an interactive table.\"\n",
              "              style=\"display:none;\">\n",
              "        \n",
              "  <svg xmlns=\"http://www.w3.org/2000/svg\" height=\"24px\"viewBox=\"0 0 24 24\"\n",
              "       width=\"24px\">\n",
              "    <path d=\"M0 0h24v24H0V0z\" fill=\"none\"/>\n",
              "    <path d=\"M18.56 5.44l.94 2.06.94-2.06 2.06-.94-2.06-.94-.94-2.06-.94 2.06-2.06.94zm-11 1L8.5 8.5l.94-2.06 2.06-.94-2.06-.94L8.5 2.5l-.94 2.06-2.06.94zm10 10l.94 2.06.94-2.06 2.06-.94-2.06-.94-.94-2.06-.94 2.06-2.06.94z\"/><path d=\"M17.41 7.96l-1.37-1.37c-.4-.4-.92-.59-1.43-.59-.52 0-1.04.2-1.43.59L10.3 9.45l-7.72 7.72c-.78.78-.78 2.05 0 2.83L4 21.41c.39.39.9.59 1.41.59.51 0 1.02-.2 1.41-.59l7.78-7.78 2.81-2.81c.8-.78.8-2.07 0-2.86zM5.41 20L4 18.59l7.72-7.72 1.47 1.35L5.41 20z\"/>\n",
              "  </svg>\n",
              "      </button>\n",
              "      \n",
              "  <style>\n",
              "    .colab-df-container {\n",
              "      display:flex;\n",
              "      flex-wrap:wrap;\n",
              "      gap: 12px;\n",
              "    }\n",
              "\n",
              "    .colab-df-convert {\n",
              "      background-color: #E8F0FE;\n",
              "      border: none;\n",
              "      border-radius: 50%;\n",
              "      cursor: pointer;\n",
              "      display: none;\n",
              "      fill: #1967D2;\n",
              "      height: 32px;\n",
              "      padding: 0 0 0 0;\n",
              "      width: 32px;\n",
              "    }\n",
              "\n",
              "    .colab-df-convert:hover {\n",
              "      background-color: #E2EBFA;\n",
              "      box-shadow: 0px 1px 2px rgba(60, 64, 67, 0.3), 0px 1px 3px 1px rgba(60, 64, 67, 0.15);\n",
              "      fill: #174EA6;\n",
              "    }\n",
              "\n",
              "    [theme=dark] .colab-df-convert {\n",
              "      background-color: #3B4455;\n",
              "      fill: #D2E3FC;\n",
              "    }\n",
              "\n",
              "    [theme=dark] .colab-df-convert:hover {\n",
              "      background-color: #434B5C;\n",
              "      box-shadow: 0px 1px 3px 1px rgba(0, 0, 0, 0.15);\n",
              "      filter: drop-shadow(0px 1px 2px rgba(0, 0, 0, 0.3));\n",
              "      fill: #FFFFFF;\n",
              "    }\n",
              "  </style>\n",
              "\n",
              "      <script>\n",
              "        const buttonEl =\n",
              "          document.querySelector('#df-5c807493-5702-4da2-9510-dfc10c6468f8 button.colab-df-convert');\n",
              "        buttonEl.style.display =\n",
              "          google.colab.kernel.accessAllowed ? 'block' : 'none';\n",
              "\n",
              "        async function convertToInteractive(key) {\n",
              "          const element = document.querySelector('#df-5c807493-5702-4da2-9510-dfc10c6468f8');\n",
              "          const dataTable =\n",
              "            await google.colab.kernel.invokeFunction('convertToInteractive',\n",
              "                                                     [key], {});\n",
              "          if (!dataTable) return;\n",
              "\n",
              "          const docLinkHtml = 'Like what you see? Visit the ' +\n",
              "            '<a target=\"_blank\" href=https://colab.research.google.com/notebooks/data_table.ipynb>data table notebook</a>'\n",
              "            + ' to learn more about interactive tables.';\n",
              "          element.innerHTML = '';\n",
              "          dataTable['output_type'] = 'display_data';\n",
              "          await google.colab.output.renderOutput(dataTable, element);\n",
              "          const docLink = document.createElement('div');\n",
              "          docLink.innerHTML = docLinkHtml;\n",
              "          element.appendChild(docLink);\n",
              "        }\n",
              "      </script>\n",
              "    </div>\n",
              "  </div>\n",
              "  "
            ]
          },
          "metadata": {},
          "execution_count": 84
        }
      ]
    },
    {
      "cell_type": "code",
      "source": [
        "# Метрики (медиана и мода) после заполнения пропусков:\n",
        "print(f\"Медиана: {df_orders['cancellations_time_in_seconds'].median()}\")\n",
        "print(f\"Мода: {df_orders['cancellations_time_in_seconds'].mode()[0]}\")"
      ],
      "metadata": {
        "colab": {
          "base_uri": "https://localhost:8080/"
        },
        "id": "M02pTiIfWq9O",
        "outputId": "316a7897-5e53-4148-908f-c173934ac13c"
      },
      "execution_count": 85,
      "outputs": [
        {
          "output_type": "stream",
          "name": "stdout",
          "text": [
            "Медиана: 99.0\n",
            "Мода: 104.0\n"
          ]
        }
      ]
    },
    {
      "cell_type": "code",
      "source": [
        "sns.boxplot(y=df_orders['cancellations_time_in_seconds'])"
      ],
      "metadata": {
        "colab": {
          "base_uri": "https://localhost:8080/",
          "height": 265
        },
        "id": "UByiw_q6VrlF",
        "outputId": "ddc3d4df-4e9d-4e9b-9202-6c8c2a184138"
      },
      "execution_count": 86,
      "outputs": [
        {
          "output_type": "execute_result",
          "data": {
            "text/plain": [
              "<matplotlib.axes._subplots.AxesSubplot at 0x7f5892993e80>"
            ]
          },
          "metadata": {},
          "execution_count": 86
        },
        {
          "output_type": "display_data",
          "data": {
            "text/plain": [
              "<Figure size 360x288 with 1 Axes>"
            ],
            "image/png": "[encoded data removed]"
          },
          "metadata": {}
        }
      ]
    },
    {
      "cell_type": "code",
      "source": [
        "# удаление выбросов\n",
        "q1  = df_orders['cancellations_time_in_seconds'].quantile(0.25)\n",
        "q3  = df_orders['cancellations_time_in_seconds'].quantile(0.75)\n",
        "iqr = q3 - q1  # межквартильный размах\n",
        "lower_bound  = q1 - (1.5 * iqr) # нижняя граница диапазона\n",
        "higher_bound = q3 + (1.5 * iqr) # верхняя граница диапазона\n",
        "\n",
        "df_orders_cut = df_orders.loc[df_orders['cancellations_time_in_seconds'].between(lower_bound, higher_bound, inclusive = 'both')]\n",
        "\n",
        "print('Метрики до удаления выбросов:')\n",
        "print(f\"Минимум: {df_orders['cancellations_time_in_seconds'].min()}\")\n",
        "print(f\"Максимум: {df_orders['cancellations_time_in_seconds'].max()}\")\n",
        "print(f\"Мода: {df_orders['cancellations_time_in_seconds'].mode()[0]}\")\n",
        "print(f\"Медиана: {df_orders['cancellations_time_in_seconds'].median()}\")\n",
        "print(f\"Стандартное отклонение: {df_orders['cancellations_time_in_seconds'].std()}\\n\")\n",
        "print('Метрики после удаления выбросов:')\n",
        "print(f\"Минимум:    {df_orders_cut['cancellations_time_in_seconds'].min()}\")\n",
        "print(f\"Максимум:    {df_orders_cut['cancellations_time_in_seconds'].max()}\")\n",
        "print(f\"Мода:   {df_orders_cut['cancellations_time_in_seconds'].mode()[0]}\")\n",
        "print(f\"Медиана: {df_orders_cut['cancellations_time_in_seconds'].median()}\")\n",
        "print(f\"Стандартное отклонение: {df_orders_cut['cancellations_time_in_seconds'].std()}\")"
      ],
      "metadata": {
        "colab": {
          "base_uri": "https://localhost:8080/"
        },
        "id": "QMSjqjNkaaX3",
        "outputId": "73d312a1-d53c-4410-e164-c4d5b0bf163e"
      },
      "execution_count": 87,
      "outputs": [
        {
          "output_type": "stream",
          "name": "stdout",
          "text": [
            "Метрики до удаления выбросов:\n",
            "Минимум: 3.0\n",
            "Максимум: 4303.0\n",
            "Мода: 104.0\n",
            "Медиана: 99.0\n",
            "Стандартное отклонение: 178.39693198040501\n",
            "\n",
            "Метрики после удаления выбросов:\n",
            "Минимум:    3.0\n",
            "Максимум:    247.0\n",
            "Мода:   104.0\n",
            "Медиана: 98.0\n",
            "Стандартное отклонение: 54.0238228238659\n"
          ]
        }
      ]
    },
    {
      "cell_type": "code",
      "source": [
        "df_driver_1 = df_orders_cut.loc[df_orders_cut['is_driver_assigned_key'] == 1].groupby('hour')['cancellations_time_in_seconds'].mean().reset_index().rename(columns={'cancellations_time_in_seconds': '1'}).sort_values(by='hour').set_index('hour')\n",
        "df_driver_0 = df_orders_cut.loc[df_orders_cut['is_driver_assigned_key'] == 0].groupby('hour')['cancellations_time_in_seconds'].mean().reset_index().rename(columns={'cancellations_time_in_seconds': '0'}).sort_values(by='hour').set_index('hour')\n",
        "df_united = pd.concat([df_driver_1, df_driver_0], axis=1).reset_index()"
      ],
      "metadata": {
        "id": "Ek1fKaZ-a8aL"
      },
      "execution_count": 88,
      "outputs": []
    },
    {
      "cell_type": "code",
      "source": [
        "df_united = pd.melt(df_united, 'hour').rename(columns={'variable': 'driver'})\n",
        "df_united.head()"
      ],
      "metadata": {
        "colab": {
          "base_uri": "https://localhost:8080/",
          "height": 206
        },
        "id": "pntMTBtajDEN",
        "outputId": "c2766997-2739-4add-d640-e1b9e5497891"
      },
      "execution_count": 89,
      "outputs": [
        {
          "output_type": "execute_result",
          "data": {
            "text/plain": [
              "   hour driver       value\n",
              "0     0      1  106.253333\n",
              "1     1      1   99.216667\n",
              "2     2      1  101.466667\n",
              "3     3      1   75.615385\n",
              "4     4      1   87.214286"
            ],
            "text/html": [
              "\n",
              "  <div id=\"df-4bd573d1-b81e-4a20-8aab-91bdb908bce6\">\n",
              "    <div class=\"colab-df-container\">\n",
              "      <div>\n",
              "<style scoped>\n",
              "    .dataframe tbody tr th:only-of-type {\n",
              "        vertical-align: middle;\n",
              "    }\n",
              "\n",
              "    .dataframe tbody tr th {\n",
              "        vertical-align: top;\n",
              "    }\n",
              "\n",
              "    .dataframe thead th {\n",
              "        text-align: right;\n",
              "    }\n",
              "</style>\n",
              "<table border=\"1\" class=\"dataframe\">\n",
              "  <thead>\n",
              "    <tr style=\"text-align: right;\">\n",
              "      <th></th>\n",
              "      <th>hour</th>\n",
              "      <th>driver</th>\n",
              "      <th>value</th>\n",
              "    </tr>\n",
              "  </thead>\n",
              "  <tbody>\n",
              "    <tr>\n",
              "      <th>0</th>\n",
              "      <td>0</td>\n",
              "      <td>1</td>\n",
              "      <td>106.253333</td>\n",
              "    </tr>\n",
              "    <tr>\n",
              "      <th>1</th>\n",
              "      <td>1</td>\n",
              "      <td>1</td>\n",
              "      <td>99.216667</td>\n",
              "    </tr>\n",
              "    <tr>\n",
              "      <th>2</th>\n",
              "      <td>2</td>\n",
              "      <td>1</td>\n",
              "      <td>101.466667</td>\n",
              "    </tr>\n",
              "    <tr>\n",
              "      <th>3</th>\n",
              "      <td>3</td>\n",
              "      <td>1</td>\n",
              "      <td>75.615385</td>\n",
              "    </tr>\n",
              "    <tr>\n",
              "      <th>4</th>\n",
              "      <td>4</td>\n",
              "      <td>1</td>\n",
              "      <td>87.214286</td>\n",
              "    </tr>\n",
              "  </tbody>\n",
              "</table>\n",
              "</div>\n",
              "      <button class=\"colab-df-convert\" onclick=\"convertToInteractive('df-4bd573d1-b81e-4a20-8aab-91bdb908bce6')\"\n",
              "              title=\"Convert this dataframe to an interactive table.\"\n",
              "              style=\"display:none;\">\n",
              "        \n",
              "  <svg xmlns=\"http://www.w3.org/2000/svg\" height=\"24px\"viewBox=\"0 0 24 24\"\n",
              "       width=\"24px\">\n",
              "    <path d=\"M0 0h24v24H0V0z\" fill=\"none\"/>\n",
              "    <path d=\"M18.56 5.44l.94 2.06.94-2.06 2.06-.94-2.06-.94-.94-2.06-.94 2.06-2.06.94zm-11 1L8.5 8.5l.94-2.06 2.06-.94-2.06-.94L8.5 2.5l-.94 2.06-2.06.94zm10 10l.94 2.06.94-2.06 2.06-.94-2.06-.94-.94-2.06-.94 2.06-2.06.94z\"/><path d=\"M17.41 7.96l-1.37-1.37c-.4-.4-.92-.59-1.43-.59-.52 0-1.04.2-1.43.59L10.3 9.45l-7.72 7.72c-.78.78-.78 2.05 0 2.83L4 21.41c.39.39.9.59 1.41.59.51 0 1.02-.2 1.41-.59l7.78-7.78 2.81-2.81c.8-.78.8-2.07 0-2.86zM5.41 20L4 18.59l7.72-7.72 1.47 1.35L5.41 20z\"/>\n",
              "  </svg>\n",
              "      </button>\n",
              "      \n",
              "  <style>\n",
              "    .colab-df-container {\n",
              "      display:flex;\n",
              "      flex-wrap:wrap;\n",
              "      gap: 12px;\n",
              "    }\n",
              "\n",
              "    .colab-df-convert {\n",
              "      background-color: #E8F0FE;\n",
              "      border: none;\n",
              "      border-radius: 50%;\n",
              "      cursor: pointer;\n",
              "      display: none;\n",
              "      fill: #1967D2;\n",
              "      height: 32px;\n",
              "      padding: 0 0 0 0;\n",
              "      width: 32px;\n",
              "    }\n",
              "\n",
              "    .colab-df-convert:hover {\n",
              "      background-color: #E2EBFA;\n",
              "      box-shadow: 0px 1px 2px rgba(60, 64, 67, 0.3), 0px 1px 3px 1px rgba(60, 64, 67, 0.15);\n",
              "      fill: #174EA6;\n",
              "    }\n",
              "\n",
              "    [theme=dark] .colab-df-convert {\n",
              "      background-color: #3B4455;\n",
              "      fill: #D2E3FC;\n",
              "    }\n",
              "\n",
              "    [theme=dark] .colab-df-convert:hover {\n",
              "      background-color: #434B5C;\n",
              "      box-shadow: 0px 1px 3px 1px rgba(0, 0, 0, 0.15);\n",
              "      filter: drop-shadow(0px 1px 2px rgba(0, 0, 0, 0.3));\n",
              "      fill: #FFFFFF;\n",
              "    }\n",
              "  </style>\n",
              "\n",
              "      <script>\n",
              "        const buttonEl =\n",
              "          document.querySelector('#df-4bd573d1-b81e-4a20-8aab-91bdb908bce6 button.colab-df-convert');\n",
              "        buttonEl.style.display =\n",
              "          google.colab.kernel.accessAllowed ? 'block' : 'none';\n",
              "\n",
              "        async function convertToInteractive(key) {\n",
              "          const element = document.querySelector('#df-4bd573d1-b81e-4a20-8aab-91bdb908bce6');\n",
              "          const dataTable =\n",
              "            await google.colab.kernel.invokeFunction('convertToInteractive',\n",
              "                                                     [key], {});\n",
              "          if (!dataTable) return;\n",
              "\n",
              "          const docLinkHtml = 'Like what you see? Visit the ' +\n",
              "            '<a target=\"_blank\" href=https://colab.research.google.com/notebooks/data_table.ipynb>data table notebook</a>'\n",
              "            + ' to learn more about interactive tables.';\n",
              "          element.innerHTML = '';\n",
              "          dataTable['output_type'] = 'display_data';\n",
              "          await google.colab.output.renderOutput(dataTable, element);\n",
              "          const docLink = document.createElement('div');\n",
              "          docLink.innerHTML = docLinkHtml;\n",
              "          element.appendChild(docLink);\n",
              "        }\n",
              "      </script>\n",
              "    </div>\n",
              "  </div>\n",
              "  "
            ]
          },
          "metadata": {},
          "execution_count": 89
        }
      ]
    },
    {
      "cell_type": "code",
      "source": [
        "# построение почасовой диаграммы времени отмены заказов для 2 случаев - при назначенном водителе (1) и без него (0)\n",
        "sns.set(style='darkgrid')    \n",
        "plt.figure(figsize=(16, 6))\n",
        "sns.barplot(x=\"hour\", y=\"value\", hue='driver', data=df_united, ci=None)\n",
        "plt.xlabel(\"Часы\")\n",
        "plt.ylabel(\"среднее время отмены заказа, сек\")"
      ],
      "metadata": {
        "colab": {
          "base_uri": "https://localhost:8080/",
          "height": 373
        },
        "id": "PIb_HqYVd1rA",
        "outputId": "73773cb7-63b9-44d9-b01a-56108b639941"
      },
      "execution_count": 90,
      "outputs": [
        {
          "output_type": "execute_result",
          "data": {
            "text/plain": [
              "Text(0, 0.5, 'среднее время отмены заказа, сек')"
            ]
          },
          "metadata": {},
          "execution_count": 90
        },
        {
          "output_type": "display_data",
          "data": {
            "text/plain": [
              "<Figure size 1152x432 with 1 Axes>"
            ],
            "image/png": "[encoded data removed]"
          },
          "metadata": {}
        }
      ]
    },
    {
      "cell_type": "markdown",
      "source": [
        "**Выводы:**\n",
        "\n",
        "1) Среднее время отмены для заказов с назначенным и не назначенным водителем по часам в целом сопоставимо.\n",
        "\n",
        "2) По отмененным заказам с назначенным водителем отмечаются значения ниже средних в 3-7 часов утра и 12-13 дня, что можно объяснить малым пассажиропотоком в указанные интервалы, что располагает к попыткам сделать новый заказ, если водитель медленно едет к месту вызова / двигается в другом направлении / завершает другой заказ / не отвечает на звонки и сообщения и т.п.\n",
        "\n",
        "3) По отмененным заказам с не назначенными водителями фиксируются пики длительности в 5 утра, 7-9 утра, 23-02 часов ночи.\n",
        "\n",
        "Вероятные причины:\n",
        "- 5 утра - малое количество водителей на дежурстве (некому поблизости взять заказ)\n",
        "- 7-9 утра - высокая загрузка водителей в утренние части пик\n",
        "- 23-02 ночи - \"импульсивные\" отмены заказов либо мало водителей на дежурстве"
      ],
      "metadata": {
        "id": "9A5YzCHB_XFz"
      }
    },
    {
      "cell_type": "markdown",
      "source": [
        "**4.** Постройте распределение среднего ЕТА по часам. Чем можно объяснить такой вид графика?"
      ],
      "metadata": {
        "id": "7227_Xgb_Gk2"
      }
    },
    {
      "cell_type": "code",
      "source": [
        "# при подготовке данных было отмечено большое число пропусков в стобце \"m_order_eta\"\n",
        "missed_eta_count = round(df_orders.m_order_eta.isna().mean()*100, 1)\n",
        "print(f'Доля записей с незаполненными данными по ETA: {missed_eta_count}%')"
      ],
      "metadata": {
        "id": "BhfgLzw9_Gr4",
        "colab": {
          "base_uri": "https://localhost:8080/"
        },
        "outputId": "27b0fe15-4382-4aa0-c9b5-50386b1311c1"
      },
      "execution_count": 91,
      "outputs": [
        {
          "output_type": "stream",
          "name": "stdout",
          "text": [
            "Доля записей с незаполненными данными по ETA: 73.7%\n"
          ]
        }
      ]
    },
    {
      "cell_type": "markdown",
      "source": [
        "*При таком преобладании пропусков их заполнение не будет корректным. От заполнения пропусков отказываемся.*"
      ],
      "metadata": {
        "id": "KbgF1kbUAk7D"
      }
    },
    {
      "cell_type": "code",
      "source": [
        "plt.figure(figsize = (16, 6))\n",
        "df_orders.groupby('hour')['m_order_eta'].mean().plot(kind = 'bar', color='blue')\n",
        "plt.title('Pаспределение среднего времени до прибытия машины по часам (сек.)')\n",
        "plt.xlabel('Часы')\n",
        "plt.ylabel('Среднее время до прибытия машины (сек.)')"
      ],
      "metadata": {
        "colab": {
          "base_uri": "https://localhost:8080/",
          "height": 391
        },
        "id": "8nJQp6Hv--HB",
        "outputId": "0c2c6680-0f17-4b4e-a27f-999fe1b2cd37"
      },
      "execution_count": 92,
      "outputs": [
        {
          "output_type": "execute_result",
          "data": {
            "text/plain": [
              "Text(0, 0.5, 'Среднее время до прибытия машины (сек.)')"
            ]
          },
          "metadata": {},
          "execution_count": 92
        },
        {
          "output_type": "display_data",
          "data": {
            "text/plain": [
              "<Figure size 1152x432 with 1 Axes>"
            ],
            "image/png": "[encoded data removed]"
          },
          "metadata": {}
        }
      ]
    },
    {
      "cell_type": "markdown",
      "source": [
        "**Выводы:**\n",
        "\n",
        "1) Наибольшее ожидаемое время прибытия машины (ETA) - в утренние (07-08 ч.) часы пик, а также в вечерний час пик (17 ч.)\n",
        "\n",
        "2) Наименьшие значения ETA - ночью (00-04 ч.) и поздним вечером (20-21 ч.)\n",
        "\n",
        "3) Данный показатель, очевидно, коррелирует с количеством заказов и количеством водителей на дежурстве\n",
        "\n",
        "4) Наибольшее значение ETA в 8 часов утра соответствует наибольшему количеству отменяемых заказов (см. диаграммы № 2-4 раздела 1)\n",
        "\n",
        "5) Вероятно, существует взаимосвязь между ETA и долей заказов, отмененных клиентами (оценить в рамках работы невозможно в связи с отсутствием данных об успешно выполненных заказах)"
      ],
      "metadata": {
        "id": "W9P2iR50_fu8"
      }
    },
    {
      "cell_type": "code",
      "source": [
        "# проверка наличия взаимосвязи между ETA и количеством отмененных заказов:\n",
        "df_eta_hourly = df_orders.groupby('hour')['m_order_eta'].mean()\n",
        "df_orders_hourly = df_orders[df_orders['m_order_eta'].isna() != True].groupby('hour')['order_gk'].count()\n",
        "df_corr = pd.concat([df_eta_hourly, df_orders_hourly], axis=1)\n",
        "df_corr = df_corr.rename(columns={'m_order_eta': 'ETA', 'order_gk': 'orders'})\n",
        "df_corr.plot(kind='scatter', x='ETA', y='orders')"
      ],
      "metadata": {
        "colab": {
          "base_uri": "https://localhost:8080/",
          "height": 340
        },
        "id": "tPTkHR_RDWIV",
        "outputId": "03216cc0-f4e6-42fb-e61e-180fc05087f5"
      },
      "execution_count": 93,
      "outputs": [
        {
          "output_type": "stream",
          "name": "stderr",
          "text": [
            "WARNING:matplotlib.axes._axes:*c* argument looks like a single numeric RGB or RGBA sequence, which should be avoided as value-mapping will have precedence in case its length matches with *x* & *y*.  Please use the *color* keyword-argument or provide a 2-D array with a single row if you intend to specify the same RGB or RGBA value for all points.\n"
          ]
        },
        {
          "output_type": "execute_result",
          "data": {
            "text/plain": [
              "<matplotlib.axes._subplots.AxesSubplot at 0x7f5892842b50>"
            ]
          },
          "metadata": {},
          "execution_count": 93
        },
        {
          "output_type": "display_data",
          "data": {
            "text/plain": [
              "<Figure size 360x288 with 1 Axes>"
            ],
            "image/png": "[encoded data removed]"
          },
          "metadata": {}
        }
      ]
    },
    {
      "cell_type": "code",
      "source": [
        "sns.pairplot(df_corr[['ETA', 'orders',]], kind='reg')"
      ],
      "metadata": {
        "colab": {
          "base_uri": "https://localhost:8080/",
          "height": 389
        },
        "id": "exgd8faTK86a",
        "outputId": "adc48d60-04e3-48fe-d7d8-3cdd515766b1"
      },
      "execution_count": 94,
      "outputs": [
        {
          "output_type": "execute_result",
          "data": {
            "text/plain": [
              "<seaborn.axisgrid.PairGrid at 0x7f58927b1dc0>"
            ]
          },
          "metadata": {},
          "execution_count": 94
        },
        {
          "output_type": "display_data",
          "data": {
            "text/plain": [
              "<Figure size 360x360 with 6 Axes>"
            ],
            "image/png": "[encoded data removed]"
          },
          "metadata": {}
        }
      ]
    },
    {
      "cell_type": "markdown",
      "source": [
        "\n",
        "Визуально имеется заметная корреляция между ETA и количеством отмененных заказов"
      ],
      "metadata": {
        "id": "hhVoPJWNNNFU"
      }
    },
    {
      "cell_type": "code",
      "source": [
        "sns.set(rc={'figure.figsize':(5, 4)})\n",
        "sns.heatmap(df_corr[['ETA', 'orders']].corr(), annot=True)"
      ],
      "metadata": {
        "colab": {
          "base_uri": "https://localhost:8080/",
          "height": 289
        },
        "id": "p0HTUg40NMRx",
        "outputId": "80863229-404d-468f-be7b-f7e13b3ff50f"
      },
      "execution_count": 95,
      "outputs": [
        {
          "output_type": "execute_result",
          "data": {
            "text/plain": [
              "<matplotlib.axes._subplots.AxesSubplot at 0x7f5892590c70>"
            ]
          },
          "metadata": {},
          "execution_count": 95
        },
        {
          "output_type": "display_data",
          "data": {
            "text/plain": [
              "<Figure size 360x288 with 2 Axes>"
            ],
            "image/png": "[encoded data removed]"
          },
          "metadata": {}
        }
      ]
    },
    {
      "cell_type": "code",
      "source": [
        "# коэффициент корреляции Пирсона\n",
        "df_corr[['ETA', 'orders']].corr()"
      ],
      "metadata": {
        "colab": {
          "base_uri": "https://localhost:8080/",
          "height": 112
        },
        "id": "b4uchQpPNCFA",
        "outputId": "e7fb7647-c9f2-41ee-eb38-d05ae82c3d02"
      },
      "execution_count": 96,
      "outputs": [
        {
          "output_type": "execute_result",
          "data": {
            "text/plain": [
              "           ETA  orders\n",
              "ETA     1.0000  0.7052\n",
              "orders  0.7052  1.0000"
            ],
            "text/html": [
              "\n",
              "  <div id=\"df-e6611fdb-dca0-4238-b0c1-a96e4a14a3f9\">\n",
              "    <div class=\"colab-df-container\">\n",
              "      <div>\n",
              "<style scoped>\n",
              "    .dataframe tbody tr th:only-of-type {\n",
              "        vertical-align: middle;\n",
              "    }\n",
              "\n",
              "    .dataframe tbody tr th {\n",
              "        vertical-align: top;\n",
              "    }\n",
              "\n",
              "    .dataframe thead th {\n",
              "        text-align: right;\n",
              "    }\n",
              "</style>\n",
              "<table border=\"1\" class=\"dataframe\">\n",
              "  <thead>\n",
              "    <tr style=\"text-align: right;\">\n",
              "      <th></th>\n",
              "      <th>ETA</th>\n",
              "      <th>orders</th>\n",
              "    </tr>\n",
              "  </thead>\n",
              "  <tbody>\n",
              "    <tr>\n",
              "      <th>ETA</th>\n",
              "      <td>1.0000</td>\n",
              "      <td>0.7052</td>\n",
              "    </tr>\n",
              "    <tr>\n",
              "      <th>orders</th>\n",
              "      <td>0.7052</td>\n",
              "      <td>1.0000</td>\n",
              "    </tr>\n",
              "  </tbody>\n",
              "</table>\n",
              "</div>\n",
              "      <button class=\"colab-df-convert\" onclick=\"convertToInteractive('df-e6611fdb-dca0-4238-b0c1-a96e4a14a3f9')\"\n",
              "              title=\"Convert this dataframe to an interactive table.\"\n",
              "              style=\"display:none;\">\n",
              "        \n",
              "  <svg xmlns=\"http://www.w3.org/2000/svg\" height=\"24px\"viewBox=\"0 0 24 24\"\n",
              "       width=\"24px\">\n",
              "    <path d=\"M0 0h24v24H0V0z\" fill=\"none\"/>\n",
              "    <path d=\"M18.56 5.44l.94 2.06.94-2.06 2.06-.94-2.06-.94-.94-2.06-.94 2.06-2.06.94zm-11 1L8.5 8.5l.94-2.06 2.06-.94-2.06-.94L8.5 2.5l-.94 2.06-2.06.94zm10 10l.94 2.06.94-2.06 2.06-.94-2.06-.94-.94-2.06-.94 2.06-2.06.94z\"/><path d=\"M17.41 7.96l-1.37-1.37c-.4-.4-.92-.59-1.43-.59-.52 0-1.04.2-1.43.59L10.3 9.45l-7.72 7.72c-.78.78-.78 2.05 0 2.83L4 21.41c.39.39.9.59 1.41.59.51 0 1.02-.2 1.41-.59l7.78-7.78 2.81-2.81c.8-.78.8-2.07 0-2.86zM5.41 20L4 18.59l7.72-7.72 1.47 1.35L5.41 20z\"/>\n",
              "  </svg>\n",
              "      </button>\n",
              "      \n",
              "  <style>\n",
              "    .colab-df-container {\n",
              "      display:flex;\n",
              "      flex-wrap:wrap;\n",
              "      gap: 12px;\n",
              "    }\n",
              "\n",
              "    .colab-df-convert {\n",
              "      background-color: #E8F0FE;\n",
              "      border: none;\n",
              "      border-radius: 50%;\n",
              "      cursor: pointer;\n",
              "      display: none;\n",
              "      fill: #1967D2;\n",
              "      height: 32px;\n",
              "      padding: 0 0 0 0;\n",
              "      width: 32px;\n",
              "    }\n",
              "\n",
              "    .colab-df-convert:hover {\n",
              "      background-color: #E2EBFA;\n",
              "      box-shadow: 0px 1px 2px rgba(60, 64, 67, 0.3), 0px 1px 3px 1px rgba(60, 64, 67, 0.15);\n",
              "      fill: #174EA6;\n",
              "    }\n",
              "\n",
              "    [theme=dark] .colab-df-convert {\n",
              "      background-color: #3B4455;\n",
              "      fill: #D2E3FC;\n",
              "    }\n",
              "\n",
              "    [theme=dark] .colab-df-convert:hover {\n",
              "      background-color: #434B5C;\n",
              "      box-shadow: 0px 1px 3px 1px rgba(0, 0, 0, 0.15);\n",
              "      filter: drop-shadow(0px 1px 2px rgba(0, 0, 0, 0.3));\n",
              "      fill: #FFFFFF;\n",
              "    }\n",
              "  </style>\n",
              "\n",
              "      <script>\n",
              "        const buttonEl =\n",
              "          document.querySelector('#df-e6611fdb-dca0-4238-b0c1-a96e4a14a3f9 button.colab-df-convert');\n",
              "        buttonEl.style.display =\n",
              "          google.colab.kernel.accessAllowed ? 'block' : 'none';\n",
              "\n",
              "        async function convertToInteractive(key) {\n",
              "          const element = document.querySelector('#df-e6611fdb-dca0-4238-b0c1-a96e4a14a3f9');\n",
              "          const dataTable =\n",
              "            await google.colab.kernel.invokeFunction('convertToInteractive',\n",
              "                                                     [key], {});\n",
              "          if (!dataTable) return;\n",
              "\n",
              "          const docLinkHtml = 'Like what you see? Visit the ' +\n",
              "            '<a target=\"_blank\" href=https://colab.research.google.com/notebooks/data_table.ipynb>data table notebook</a>'\n",
              "            + ' to learn more about interactive tables.';\n",
              "          element.innerHTML = '';\n",
              "          dataTable['output_type'] = 'display_data';\n",
              "          await google.colab.output.renderOutput(dataTable, element);\n",
              "          const docLink = document.createElement('div');\n",
              "          docLink.innerHTML = docLinkHtml;\n",
              "          element.appendChild(docLink);\n",
              "        }\n",
              "      </script>\n",
              "    </div>\n",
              "  </div>\n",
              "  "
            ]
          },
          "metadata": {},
          "execution_count": 96
        }
      ]
    },
    {
      "cell_type": "code",
      "source": [
        "# коэффициент корреляции Спирмена\n",
        "df_corr[['ETA', 'orders']].corr(method='spearman')"
      ],
      "metadata": {
        "colab": {
          "base_uri": "https://localhost:8080/",
          "height": 112
        },
        "id": "BEDpl4f-NCHO",
        "outputId": "3591ff23-3baf-4534-b09c-7e93370ec62c"
      },
      "execution_count": 97,
      "outputs": [
        {
          "output_type": "execute_result",
          "data": {
            "text/plain": [
              "             ETA    orders\n",
              "ETA     1.000000  0.557998\n",
              "orders  0.557998  1.000000"
            ],
            "text/html": [
              "\n",
              "  <div id=\"df-86f84881-d843-4930-a4f5-ca7b8902d22d\">\n",
              "    <div class=\"colab-df-container\">\n",
              "      <div>\n",
              "<style scoped>\n",
              "    .dataframe tbody tr th:only-of-type {\n",
              "        vertical-align: middle;\n",
              "    }\n",
              "\n",
              "    .dataframe tbody tr th {\n",
              "        vertical-align: top;\n",
              "    }\n",
              "\n",
              "    .dataframe thead th {\n",
              "        text-align: right;\n",
              "    }\n",
              "</style>\n",
              "<table border=\"1\" class=\"dataframe\">\n",
              "  <thead>\n",
              "    <tr style=\"text-align: right;\">\n",
              "      <th></th>\n",
              "      <th>ETA</th>\n",
              "      <th>orders</th>\n",
              "    </tr>\n",
              "  </thead>\n",
              "  <tbody>\n",
              "    <tr>\n",
              "      <th>ETA</th>\n",
              "      <td>1.000000</td>\n",
              "      <td>0.557998</td>\n",
              "    </tr>\n",
              "    <tr>\n",
              "      <th>orders</th>\n",
              "      <td>0.557998</td>\n",
              "      <td>1.000000</td>\n",
              "    </tr>\n",
              "  </tbody>\n",
              "</table>\n",
              "</div>\n",
              "      <button class=\"colab-df-convert\" onclick=\"convertToInteractive('df-86f84881-d843-4930-a4f5-ca7b8902d22d')\"\n",
              "              title=\"Convert this dataframe to an interactive table.\"\n",
              "              style=\"display:none;\">\n",
              "        \n",
              "  <svg xmlns=\"http://www.w3.org/2000/svg\" height=\"24px\"viewBox=\"0 0 24 24\"\n",
              "       width=\"24px\">\n",
              "    <path d=\"M0 0h24v24H0V0z\" fill=\"none\"/>\n",
              "    <path d=\"M18.56 5.44l.94 2.06.94-2.06 2.06-.94-2.06-.94-.94-2.06-.94 2.06-2.06.94zm-11 1L8.5 8.5l.94-2.06 2.06-.94-2.06-.94L8.5 2.5l-.94 2.06-2.06.94zm10 10l.94 2.06.94-2.06 2.06-.94-2.06-.94-.94-2.06-.94 2.06-2.06.94z\"/><path d=\"M17.41 7.96l-1.37-1.37c-.4-.4-.92-.59-1.43-.59-.52 0-1.04.2-1.43.59L10.3 9.45l-7.72 7.72c-.78.78-.78 2.05 0 2.83L4 21.41c.39.39.9.59 1.41.59.51 0 1.02-.2 1.41-.59l7.78-7.78 2.81-2.81c.8-.78.8-2.07 0-2.86zM5.41 20L4 18.59l7.72-7.72 1.47 1.35L5.41 20z\"/>\n",
              "  </svg>\n",
              "      </button>\n",
              "      \n",
              "  <style>\n",
              "    .colab-df-container {\n",
              "      display:flex;\n",
              "      flex-wrap:wrap;\n",
              "      gap: 12px;\n",
              "    }\n",
              "\n",
              "    .colab-df-convert {\n",
              "      background-color: #E8F0FE;\n",
              "      border: none;\n",
              "      border-radius: 50%;\n",
              "      cursor: pointer;\n",
              "      display: none;\n",
              "      fill: #1967D2;\n",
              "      height: 32px;\n",
              "      padding: 0 0 0 0;\n",
              "      width: 32px;\n",
              "    }\n",
              "\n",
              "    .colab-df-convert:hover {\n",
              "      background-color: #E2EBFA;\n",
              "      box-shadow: 0px 1px 2px rgba(60, 64, 67, 0.3), 0px 1px 3px 1px rgba(60, 64, 67, 0.15);\n",
              "      fill: #174EA6;\n",
              "    }\n",
              "\n",
              "    [theme=dark] .colab-df-convert {\n",
              "      background-color: #3B4455;\n",
              "      fill: #D2E3FC;\n",
              "    }\n",
              "\n",
              "    [theme=dark] .colab-df-convert:hover {\n",
              "      background-color: #434B5C;\n",
              "      box-shadow: 0px 1px 3px 1px rgba(0, 0, 0, 0.15);\n",
              "      filter: drop-shadow(0px 1px 2px rgba(0, 0, 0, 0.3));\n",
              "      fill: #FFFFFF;\n",
              "    }\n",
              "  </style>\n",
              "\n",
              "      <script>\n",
              "        const buttonEl =\n",
              "          document.querySelector('#df-86f84881-d843-4930-a4f5-ca7b8902d22d button.colab-df-convert');\n",
              "        buttonEl.style.display =\n",
              "          google.colab.kernel.accessAllowed ? 'block' : 'none';\n",
              "\n",
              "        async function convertToInteractive(key) {\n",
              "          const element = document.querySelector('#df-86f84881-d843-4930-a4f5-ca7b8902d22d');\n",
              "          const dataTable =\n",
              "            await google.colab.kernel.invokeFunction('convertToInteractive',\n",
              "                                                     [key], {});\n",
              "          if (!dataTable) return;\n",
              "\n",
              "          const docLinkHtml = 'Like what you see? Visit the ' +\n",
              "            '<a target=\"_blank\" href=https://colab.research.google.com/notebooks/data_table.ipynb>data table notebook</a>'\n",
              "            + ' to learn more about interactive tables.';\n",
              "          element.innerHTML = '';\n",
              "          dataTable['output_type'] = 'display_data';\n",
              "          await google.colab.output.renderOutput(dataTable, element);\n",
              "          const docLink = document.createElement('div');\n",
              "          docLink.innerHTML = docLinkHtml;\n",
              "          element.appendChild(docLink);\n",
              "        }\n",
              "      </script>\n",
              "    </div>\n",
              "  </div>\n",
              "  "
            ]
          },
          "metadata": {},
          "execution_count": 97
        }
      ]
    },
    {
      "cell_type": "markdown",
      "source": [
        "**Выводы:**\n",
        "\n",
        "1) Оба метода расчета коэффициента корреляции показывают положительную корреляцию. В связи с наличием одного \"выброса\" корректнее использовать коэффициент корреляции Спирмена (0.56 - умеренно сильная положительная корреляция)\n",
        "\n",
        "2) Однозначные выводы о взаимосвязи / зависимости сделать невозможно в связи с отсутствием в представленных датасетах данных об успешно выполненных заказах (оптимально было бы изучить взаимосвязь доли отмененных пользователями заказов (от общего количества заказов) и ETA)"
      ],
      "metadata": {
        "id": "IStSsRFVNi1q"
      }
    },
    {
      "cell_type": "markdown",
      "source": [
        "**5.** Колонка drivers_offered - показывает сколько водителей увидели заказ и могли его принять. Постройте часовую разбивку среднего количества водителей которым был предложен заказ. Что можно сказать по ней про избыток/нехватку водителей в те или иные часы?"
      ],
      "metadata": {
        "id": "LEb45U9z_GzC"
      }
    },
    {
      "cell_type": "code",
      "source": [
        "# требуется объединение двух исходных датафреймов\n",
        "df_merged = df_orders.merge(df_offers, on = 'order_gk', how = 'left')\n",
        "\n",
        "# расчет среднего количества водителей, которым были предложен заказ, в детализации по часам\n",
        "df_of_drivers = df_merged.groupby(['order_gk', 'hour'])['offer_id'].nunique().reset_index()\n",
        "df_of_drivers = df_of_drivers.rename(columns={'offer_id': 'drivers_count'})\n",
        "df_of_hourly = df_of_drivers.groupby('hour').mean()\n",
        "df_of_hourly"
      ],
      "metadata": {
        "id": "hfZNixto_G4b",
        "colab": {
          "base_uri": "https://localhost:8080/",
          "height": 833
        },
        "outputId": "35219df7-7ade-4680-cb4c-d1f84539427c"
      },
      "execution_count": 98,
      "outputs": [
        {
          "output_type": "execute_result",
          "data": {
            "text/plain": [
              "          order_gk  drivers_count\n",
              "hour                             \n",
              "0     3.000598e+12       2.918009\n",
              "1     3.000597e+12       2.770701\n",
              "2     3.000601e+12       2.657658\n",
              "3     3.000597e+12       2.764133\n",
              "4     3.000602e+12       1.493421\n",
              "5     3.000594e+12       1.656716\n",
              "6     3.000592e+12       2.465409\n",
              "7     3.000599e+12       3.503356\n",
              "8     3.000599e+12       3.572089\n",
              "9     3.000596e+12       3.053398\n",
              "10    3.000583e+12       2.276471\n",
              "11    3.000587e+12       2.642487\n",
              "12    3.000593e+12       2.722656\n",
              "13    3.000590e+12       2.928962\n",
              "14    3.000602e+12       2.863281\n",
              "15    3.000605e+12       3.289294\n",
              "16    3.000595e+12       2.337079\n",
              "17    3.000599e+12       2.846580\n",
              "18    3.000604e+12       2.743961\n",
              "19    3.000602e+12       2.031546\n",
              "20    3.000592e+12       2.944563\n",
              "21    3.000597e+12       3.288416\n",
              "22    3.000603e+12       2.833799\n",
              "23    3.000601e+12       2.955742"
            ],
            "text/html": [
              "\n",
              "  <div id=\"df-272b05ed-8f73-4c2e-b9af-b2992625c9cd\">\n",
              "    <div class=\"colab-df-container\">\n",
              "      <div>\n",
              "<style scoped>\n",
              "    .dataframe tbody tr th:only-of-type {\n",
              "        vertical-align: middle;\n",
              "    }\n",
              "\n",
              "    .dataframe tbody tr th {\n",
              "        vertical-align: top;\n",
              "    }\n",
              "\n",
              "    .dataframe thead th {\n",
              "        text-align: right;\n",
              "    }\n",
              "</style>\n",
              "<table border=\"1\" class=\"dataframe\">\n",
              "  <thead>\n",
              "    <tr style=\"text-align: right;\">\n",
              "      <th></th>\n",
              "      <th>order_gk</th>\n",
              "      <th>drivers_count</th>\n",
              "    </tr>\n",
              "    <tr>\n",
              "      <th>hour</th>\n",
              "      <th></th>\n",
              "      <th></th>\n",
              "    </tr>\n",
              "  </thead>\n",
              "  <tbody>\n",
              "    <tr>\n",
              "      <th>0</th>\n",
              "      <td>3.000598e+12</td>\n",
              "      <td>2.918009</td>\n",
              "    </tr>\n",
              "    <tr>\n",
              "      <th>1</th>\n",
              "      <td>3.000597e+12</td>\n",
              "      <td>2.770701</td>\n",
              "    </tr>\n",
              "    <tr>\n",
              "      <th>2</th>\n",
              "      <td>3.000601e+12</td>\n",
              "      <td>2.657658</td>\n",
              "    </tr>\n",
              "    <tr>\n",
              "      <th>3</th>\n",
              "      <td>3.000597e+12</td>\n",
              "      <td>2.764133</td>\n",
              "    </tr>\n",
              "    <tr>\n",
              "      <th>4</th>\n",
              "      <td>3.000602e+12</td>\n",
              "      <td>1.493421</td>\n",
              "    </tr>\n",
              "    <tr>\n",
              "      <th>5</th>\n",
              "      <td>3.000594e+12</td>\n",
              "      <td>1.656716</td>\n",
              "    </tr>\n",
              "    <tr>\n",
              "      <th>6</th>\n",
              "      <td>3.000592e+12</td>\n",
              "      <td>2.465409</td>\n",
              "    </tr>\n",
              "    <tr>\n",
              "      <th>7</th>\n",
              "      <td>3.000599e+12</td>\n",
              "      <td>3.503356</td>\n",
              "    </tr>\n",
              "    <tr>\n",
              "      <th>8</th>\n",
              "      <td>3.000599e+12</td>\n",
              "      <td>3.572089</td>\n",
              "    </tr>\n",
              "    <tr>\n",
              "      <th>9</th>\n",
              "      <td>3.000596e+12</td>\n",
              "      <td>3.053398</td>\n",
              "    </tr>\n",
              "    <tr>\n",
              "      <th>10</th>\n",
              "      <td>3.000583e+12</td>\n",
              "      <td>2.276471</td>\n",
              "    </tr>\n",
              "    <tr>\n",
              "      <th>11</th>\n",
              "      <td>3.000587e+12</td>\n",
              "      <td>2.642487</td>\n",
              "    </tr>\n",
              "    <tr>\n",
              "      <th>12</th>\n",
              "      <td>3.000593e+12</td>\n",
              "      <td>2.722656</td>\n",
              "    </tr>\n",
              "    <tr>\n",
              "      <th>13</th>\n",
              "      <td>3.000590e+12</td>\n",
              "      <td>2.928962</td>\n",
              "    </tr>\n",
              "    <tr>\n",
              "      <th>14</th>\n",
              "      <td>3.000602e+12</td>\n",
              "      <td>2.863281</td>\n",
              "    </tr>\n",
              "    <tr>\n",
              "      <th>15</th>\n",
              "      <td>3.000605e+12</td>\n",
              "      <td>3.289294</td>\n",
              "    </tr>\n",
              "    <tr>\n",
              "      <th>16</th>\n",
              "      <td>3.000595e+12</td>\n",
              "      <td>2.337079</td>\n",
              "    </tr>\n",
              "    <tr>\n",
              "      <th>17</th>\n",
              "      <td>3.000599e+12</td>\n",
              "      <td>2.846580</td>\n",
              "    </tr>\n",
              "    <tr>\n",
              "      <th>18</th>\n",
              "      <td>3.000604e+12</td>\n",
              "      <td>2.743961</td>\n",
              "    </tr>\n",
              "    <tr>\n",
              "      <th>19</th>\n",
              "      <td>3.000602e+12</td>\n",
              "      <td>2.031546</td>\n",
              "    </tr>\n",
              "    <tr>\n",
              "      <th>20</th>\n",
              "      <td>3.000592e+12</td>\n",
              "      <td>2.944563</td>\n",
              "    </tr>\n",
              "    <tr>\n",
              "      <th>21</th>\n",
              "      <td>3.000597e+12</td>\n",
              "      <td>3.288416</td>\n",
              "    </tr>\n",
              "    <tr>\n",
              "      <th>22</th>\n",
              "      <td>3.000603e+12</td>\n",
              "      <td>2.833799</td>\n",
              "    </tr>\n",
              "    <tr>\n",
              "      <th>23</th>\n",
              "      <td>3.000601e+12</td>\n",
              "      <td>2.955742</td>\n",
              "    </tr>\n",
              "  </tbody>\n",
              "</table>\n",
              "</div>\n",
              "      <button class=\"colab-df-convert\" onclick=\"convertToInteractive('df-272b05ed-8f73-4c2e-b9af-b2992625c9cd')\"\n",
              "              title=\"Convert this dataframe to an interactive table.\"\n",
              "              style=\"display:none;\">\n",
              "        \n",
              "  <svg xmlns=\"http://www.w3.org/2000/svg\" height=\"24px\"viewBox=\"0 0 24 24\"\n",
              "       width=\"24px\">\n",
              "    <path d=\"M0 0h24v24H0V0z\" fill=\"none\"/>\n",
              "    <path d=\"M18.56 5.44l.94 2.06.94-2.06 2.06-.94-2.06-.94-.94-2.06-.94 2.06-2.06.94zm-11 1L8.5 8.5l.94-2.06 2.06-.94-2.06-.94L8.5 2.5l-.94 2.06-2.06.94zm10 10l.94 2.06.94-2.06 2.06-.94-2.06-.94-.94-2.06-.94 2.06-2.06.94z\"/><path d=\"M17.41 7.96l-1.37-1.37c-.4-.4-.92-.59-1.43-.59-.52 0-1.04.2-1.43.59L10.3 9.45l-7.72 7.72c-.78.78-.78 2.05 0 2.83L4 21.41c.39.39.9.59 1.41.59.51 0 1.02-.2 1.41-.59l7.78-7.78 2.81-2.81c.8-.78.8-2.07 0-2.86zM5.41 20L4 18.59l7.72-7.72 1.47 1.35L5.41 20z\"/>\n",
              "  </svg>\n",
              "      </button>\n",
              "      \n",
              "  <style>\n",
              "    .colab-df-container {\n",
              "      display:flex;\n",
              "      flex-wrap:wrap;\n",
              "      gap: 12px;\n",
              "    }\n",
              "\n",
              "    .colab-df-convert {\n",
              "      background-color: #E8F0FE;\n",
              "      border: none;\n",
              "      border-radius: 50%;\n",
              "      cursor: pointer;\n",
              "      display: none;\n",
              "      fill: #1967D2;\n",
              "      height: 32px;\n",
              "      padding: 0 0 0 0;\n",
              "      width: 32px;\n",
              "    }\n",
              "\n",
              "    .colab-df-convert:hover {\n",
              "      background-color: #E2EBFA;\n",
              "      box-shadow: 0px 1px 2px rgba(60, 64, 67, 0.3), 0px 1px 3px 1px rgba(60, 64, 67, 0.15);\n",
              "      fill: #174EA6;\n",
              "    }\n",
              "\n",
              "    [theme=dark] .colab-df-convert {\n",
              "      background-color: #3B4455;\n",
              "      fill: #D2E3FC;\n",
              "    }\n",
              "\n",
              "    [theme=dark] .colab-df-convert:hover {\n",
              "      background-color: #434B5C;\n",
              "      box-shadow: 0px 1px 3px 1px rgba(0, 0, 0, 0.15);\n",
              "      filter: drop-shadow(0px 1px 2px rgba(0, 0, 0, 0.3));\n",
              "      fill: #FFFFFF;\n",
              "    }\n",
              "  </style>\n",
              "\n",
              "      <script>\n",
              "        const buttonEl =\n",
              "          document.querySelector('#df-272b05ed-8f73-4c2e-b9af-b2992625c9cd button.colab-df-convert');\n",
              "        buttonEl.style.display =\n",
              "          google.colab.kernel.accessAllowed ? 'block' : 'none';\n",
              "\n",
              "        async function convertToInteractive(key) {\n",
              "          const element = document.querySelector('#df-272b05ed-8f73-4c2e-b9af-b2992625c9cd');\n",
              "          const dataTable =\n",
              "            await google.colab.kernel.invokeFunction('convertToInteractive',\n",
              "                                                     [key], {});\n",
              "          if (!dataTable) return;\n",
              "\n",
              "          const docLinkHtml = 'Like what you see? Visit the ' +\n",
              "            '<a target=\"_blank\" href=https://colab.research.google.com/notebooks/data_table.ipynb>data table notebook</a>'\n",
              "            + ' to learn more about interactive tables.';\n",
              "          element.innerHTML = '';\n",
              "          dataTable['output_type'] = 'display_data';\n",
              "          await google.colab.output.renderOutput(dataTable, element);\n",
              "          const docLink = document.createElement('div');\n",
              "          docLink.innerHTML = docLinkHtml;\n",
              "          element.appendChild(docLink);\n",
              "        }\n",
              "      </script>\n",
              "    </div>\n",
              "  </div>\n",
              "  "
            ]
          },
          "metadata": {},
          "execution_count": 98
        }
      ]
    },
    {
      "cell_type": "code",
      "source": [
        "# построение диаграммы\n",
        "plt.figure(figsize = (16, 5))\n",
        "df_of_hourly['drivers_count'].plot(kind='bar', color='blue')\n",
        "plt.title('Среднее количество водителей, которым были предложены заказы, по часам суток')\n",
        "plt.xlabel('Час суток')\n",
        "plt.ylabel('Среднее количество водителей, которым был предложен заказ')"
      ],
      "metadata": {
        "colab": {
          "base_uri": "https://localhost:8080/",
          "height": 416
        },
        "id": "OXUlxXsdE0LY",
        "outputId": "1a1d5c1e-0630-4cb3-b9ce-d53ad277cab0"
      },
      "execution_count": 99,
      "outputs": [
        {
          "output_type": "execute_result",
          "data": {
            "text/plain": [
              "Text(0, 0.5, 'Среднее количество водителей, которым был предложен заказ')"
            ]
          },
          "metadata": {},
          "execution_count": 99
        },
        {
          "output_type": "display_data",
          "data": {
            "text/plain": [
              "<Figure size 1152x360 with 1 Axes>"
            ],
            "image/png": "[encoded data removed]"
          },
          "metadata": {}
        }
      ]
    },
    {
      "cell_type": "markdown",
      "source": [
        "**Выводы:**\n",
        "\n",
        "1) В утренний час пик (7-8 утра), и в вечернее время (20-21 час), а также в 15 дня единичный заказ в среднем предлагался наибольшему числу водителей. В данное время, возможно, имеет место дефицит водителей из-за наплыва клиентов.\n",
        "\n",
        "2) Наименьшее количество предложений на заказ поступало водителям в 4-5 часов утра (мало клиентов) и 19 часов вечера (наиболее дорогие поездки, часть клиентов предпочитает метро)."
      ],
      "metadata": {
        "id": "LqESM2flFqX5"
      }
    },
    {
      "cell_type": "code",
      "source": [
        "# анализ заказов, которые не были предложены ни одному водителю:\n",
        "plt.figure(figsize = (16, 5))\n",
        "plt.title('Не предложенные водителям заказы по часам')\n",
        "df_of_drivers.loc[df_of_drivers['drivers_count'] == 0].groupby('hour')['drivers_count'].count().plot(kind='bar', color='blue')\n",
        "plt.ylabel('Количество заказов')"
      ],
      "metadata": {
        "colab": {
          "base_uri": "https://localhost:8080/",
          "height": 342
        },
        "id": "Tsy2QzDZGcpe",
        "outputId": "08154ac8-d3f1-4324-8c7b-bdfbb142a2af"
      },
      "execution_count": 100,
      "outputs": [
        {
          "output_type": "execute_result",
          "data": {
            "text/plain": [
              "Text(0, 0.5, 'Количество заказов')"
            ]
          },
          "metadata": {},
          "execution_count": 100
        },
        {
          "output_type": "display_data",
          "data": {
            "text/plain": [
              "<Figure size 1152x360 with 1 Axes>"
            ],
            "image/png": "[encoded data removed]"
          },
          "metadata": {}
        }
      ]
    },
    {
      "cell_type": "markdown",
      "source": [
        "**Выводы:**\n",
        "\n",
        "1) Наибольшее количество заказов, которые не были предложены ни одному водителю, фиксируется в утренний час пик (8 ч., также соответствует периоду времени с максимальным количеством отмененных заказов) и поздний вечер (с 22 до 00 ч.).\n",
        "\n",
        "2) Целесообразно рассмотреть возможность применения инструментов мотивации водителей для обеспечения необходимого количества водителей на дежурстве в указанные часы для снижения выявленной неэффективности распределения заказов."
      ],
      "metadata": {
        "id": "xwPGMtbf_G9r"
      }
    }
  ]
}